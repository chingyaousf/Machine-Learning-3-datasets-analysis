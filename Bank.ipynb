{
  "nbformat": 4,
  "nbformat_minor": 0,
  "metadata": {
    "colab": {
      "provenance": [],
      "mount_file_id": "1qZOEIC1J8YvRTnfDomk3Cip7iWBdaHoZ",
      "authorship_tag": "ABX9TyOlf8JYqgEkiz3ALSYhh9pS",
      "include_colab_link": true
    },
    "kernelspec": {
      "name": "python3",
      "display_name": "Python 3"
    },
    "language_info": {
      "name": "python"
    }
  },
  "cells": [
    {
      "cell_type": "markdown",
      "metadata": {
        "id": "view-in-github",
        "colab_type": "text"
      },
      "source": [
        "<a href=\"https://colab.research.google.com/github/chingyaousf/Machine-Learning-3-datasets-analysis/blob/main/Bank.ipynb\" target=\"_parent\"><img src=\"https://colab.research.google.com/assets/colab-badge.svg\" alt=\"Open In Colab\"/></a>"
      ]
    },
    {
      "cell_type": "code",
      "execution_count": null,
      "metadata": {
        "id": "1BQ6dc2smLah"
      },
      "outputs": [],
      "source": [
        "import numpy as np\n",
        "import pandas as pd\n",
        "import sklearn"
      ]
    },
    {
      "cell_type": "markdown",
      "source": [
        "**Loading files using Pandas**\n",
        "**Show data**"
      ],
      "metadata": {
        "id": "Jc4DQLSHebXs"
      }
    },
    {
      "cell_type": "code",
      "source": [
        "data = pd.read_csv(\"/content/drive/MyDrive/Colab Notebooks/bank-full.csv\", delimiter=\";\")\n",
        "data"
      ],
      "metadata": {
        "id": "Ki5X9tAKAcwy",
        "colab": {
          "base_uri": "https://localhost:8080/",
          "height": 424
        },
        "outputId": "04a7e7ba-db76-40e2-ef56-336a26088b71"
      },
      "execution_count": null,
      "outputs": [
        {
          "output_type": "execute_result",
          "data": {
            "text/plain": [
              "       age           job   marital  education default  balance housing loan  \\\n",
              "0       58    management   married   tertiary      no     2143     yes   no   \n",
              "1       44    technician    single  secondary      no       29     yes   no   \n",
              "2       33  entrepreneur   married  secondary      no        2     yes  yes   \n",
              "3       47   blue-collar   married    unknown      no     1506     yes   no   \n",
              "4       33       unknown    single    unknown      no        1      no   no   \n",
              "...    ...           ...       ...        ...     ...      ...     ...  ...   \n",
              "45206   51    technician   married   tertiary      no      825      no   no   \n",
              "45207   71       retired  divorced    primary      no     1729      no   no   \n",
              "45208   72       retired   married  secondary      no     5715      no   no   \n",
              "45209   57   blue-collar   married  secondary      no      668      no   no   \n",
              "45210   37  entrepreneur   married  secondary      no     2971      no   no   \n",
              "\n",
              "         contact  day month  duration  campaign  pdays  previous poutcome    y  \n",
              "0        unknown    5   may       261         1     -1         0  unknown   no  \n",
              "1        unknown    5   may       151         1     -1         0  unknown   no  \n",
              "2        unknown    5   may        76         1     -1         0  unknown   no  \n",
              "3        unknown    5   may        92         1     -1         0  unknown   no  \n",
              "4        unknown    5   may       198         1     -1         0  unknown   no  \n",
              "...          ...  ...   ...       ...       ...    ...       ...      ...  ...  \n",
              "45206   cellular   17   nov       977         3     -1         0  unknown  yes  \n",
              "45207   cellular   17   nov       456         2     -1         0  unknown  yes  \n",
              "45208   cellular   17   nov      1127         5    184         3  success  yes  \n",
              "45209  telephone   17   nov       508         4     -1         0  unknown   no  \n",
              "45210   cellular   17   nov       361         2    188        11    other   no  \n",
              "\n",
              "[45211 rows x 17 columns]"
            ],
            "text/html": [
              "\n",
              "  <div id=\"df-6ed72d47-e0c4-4562-b9d4-14b0cb941c3b\">\n",
              "    <div class=\"colab-df-container\">\n",
              "      <div>\n",
              "<style scoped>\n",
              "    .dataframe tbody tr th:only-of-type {\n",
              "        vertical-align: middle;\n",
              "    }\n",
              "\n",
              "    .dataframe tbody tr th {\n",
              "        vertical-align: top;\n",
              "    }\n",
              "\n",
              "    .dataframe thead th {\n",
              "        text-align: right;\n",
              "    }\n",
              "</style>\n",
              "<table border=\"1\" class=\"dataframe\">\n",
              "  <thead>\n",
              "    <tr style=\"text-align: right;\">\n",
              "      <th></th>\n",
              "      <th>age</th>\n",
              "      <th>job</th>\n",
              "      <th>marital</th>\n",
              "      <th>education</th>\n",
              "      <th>default</th>\n",
              "      <th>balance</th>\n",
              "      <th>housing</th>\n",
              "      <th>loan</th>\n",
              "      <th>contact</th>\n",
              "      <th>day</th>\n",
              "      <th>month</th>\n",
              "      <th>duration</th>\n",
              "      <th>campaign</th>\n",
              "      <th>pdays</th>\n",
              "      <th>previous</th>\n",
              "      <th>poutcome</th>\n",
              "      <th>y</th>\n",
              "    </tr>\n",
              "  </thead>\n",
              "  <tbody>\n",
              "    <tr>\n",
              "      <th>0</th>\n",
              "      <td>58</td>\n",
              "      <td>management</td>\n",
              "      <td>married</td>\n",
              "      <td>tertiary</td>\n",
              "      <td>no</td>\n",
              "      <td>2143</td>\n",
              "      <td>yes</td>\n",
              "      <td>no</td>\n",
              "      <td>unknown</td>\n",
              "      <td>5</td>\n",
              "      <td>may</td>\n",
              "      <td>261</td>\n",
              "      <td>1</td>\n",
              "      <td>-1</td>\n",
              "      <td>0</td>\n",
              "      <td>unknown</td>\n",
              "      <td>no</td>\n",
              "    </tr>\n",
              "    <tr>\n",
              "      <th>1</th>\n",
              "      <td>44</td>\n",
              "      <td>technician</td>\n",
              "      <td>single</td>\n",
              "      <td>secondary</td>\n",
              "      <td>no</td>\n",
              "      <td>29</td>\n",
              "      <td>yes</td>\n",
              "      <td>no</td>\n",
              "      <td>unknown</td>\n",
              "      <td>5</td>\n",
              "      <td>may</td>\n",
              "      <td>151</td>\n",
              "      <td>1</td>\n",
              "      <td>-1</td>\n",
              "      <td>0</td>\n",
              "      <td>unknown</td>\n",
              "      <td>no</td>\n",
              "    </tr>\n",
              "    <tr>\n",
              "      <th>2</th>\n",
              "      <td>33</td>\n",
              "      <td>entrepreneur</td>\n",
              "      <td>married</td>\n",
              "      <td>secondary</td>\n",
              "      <td>no</td>\n",
              "      <td>2</td>\n",
              "      <td>yes</td>\n",
              "      <td>yes</td>\n",
              "      <td>unknown</td>\n",
              "      <td>5</td>\n",
              "      <td>may</td>\n",
              "      <td>76</td>\n",
              "      <td>1</td>\n",
              "      <td>-1</td>\n",
              "      <td>0</td>\n",
              "      <td>unknown</td>\n",
              "      <td>no</td>\n",
              "    </tr>\n",
              "    <tr>\n",
              "      <th>3</th>\n",
              "      <td>47</td>\n",
              "      <td>blue-collar</td>\n",
              "      <td>married</td>\n",
              "      <td>unknown</td>\n",
              "      <td>no</td>\n",
              "      <td>1506</td>\n",
              "      <td>yes</td>\n",
              "      <td>no</td>\n",
              "      <td>unknown</td>\n",
              "      <td>5</td>\n",
              "      <td>may</td>\n",
              "      <td>92</td>\n",
              "      <td>1</td>\n",
              "      <td>-1</td>\n",
              "      <td>0</td>\n",
              "      <td>unknown</td>\n",
              "      <td>no</td>\n",
              "    </tr>\n",
              "    <tr>\n",
              "      <th>4</th>\n",
              "      <td>33</td>\n",
              "      <td>unknown</td>\n",
              "      <td>single</td>\n",
              "      <td>unknown</td>\n",
              "      <td>no</td>\n",
              "      <td>1</td>\n",
              "      <td>no</td>\n",
              "      <td>no</td>\n",
              "      <td>unknown</td>\n",
              "      <td>5</td>\n",
              "      <td>may</td>\n",
              "      <td>198</td>\n",
              "      <td>1</td>\n",
              "      <td>-1</td>\n",
              "      <td>0</td>\n",
              "      <td>unknown</td>\n",
              "      <td>no</td>\n",
              "    </tr>\n",
              "    <tr>\n",
              "      <th>...</th>\n",
              "      <td>...</td>\n",
              "      <td>...</td>\n",
              "      <td>...</td>\n",
              "      <td>...</td>\n",
              "      <td>...</td>\n",
              "      <td>...</td>\n",
              "      <td>...</td>\n",
              "      <td>...</td>\n",
              "      <td>...</td>\n",
              "      <td>...</td>\n",
              "      <td>...</td>\n",
              "      <td>...</td>\n",
              "      <td>...</td>\n",
              "      <td>...</td>\n",
              "      <td>...</td>\n",
              "      <td>...</td>\n",
              "      <td>...</td>\n",
              "    </tr>\n",
              "    <tr>\n",
              "      <th>45206</th>\n",
              "      <td>51</td>\n",
              "      <td>technician</td>\n",
              "      <td>married</td>\n",
              "      <td>tertiary</td>\n",
              "      <td>no</td>\n",
              "      <td>825</td>\n",
              "      <td>no</td>\n",
              "      <td>no</td>\n",
              "      <td>cellular</td>\n",
              "      <td>17</td>\n",
              "      <td>nov</td>\n",
              "      <td>977</td>\n",
              "      <td>3</td>\n",
              "      <td>-1</td>\n",
              "      <td>0</td>\n",
              "      <td>unknown</td>\n",
              "      <td>yes</td>\n",
              "    </tr>\n",
              "    <tr>\n",
              "      <th>45207</th>\n",
              "      <td>71</td>\n",
              "      <td>retired</td>\n",
              "      <td>divorced</td>\n",
              "      <td>primary</td>\n",
              "      <td>no</td>\n",
              "      <td>1729</td>\n",
              "      <td>no</td>\n",
              "      <td>no</td>\n",
              "      <td>cellular</td>\n",
              "      <td>17</td>\n",
              "      <td>nov</td>\n",
              "      <td>456</td>\n",
              "      <td>2</td>\n",
              "      <td>-1</td>\n",
              "      <td>0</td>\n",
              "      <td>unknown</td>\n",
              "      <td>yes</td>\n",
              "    </tr>\n",
              "    <tr>\n",
              "      <th>45208</th>\n",
              "      <td>72</td>\n",
              "      <td>retired</td>\n",
              "      <td>married</td>\n",
              "      <td>secondary</td>\n",
              "      <td>no</td>\n",
              "      <td>5715</td>\n",
              "      <td>no</td>\n",
              "      <td>no</td>\n",
              "      <td>cellular</td>\n",
              "      <td>17</td>\n",
              "      <td>nov</td>\n",
              "      <td>1127</td>\n",
              "      <td>5</td>\n",
              "      <td>184</td>\n",
              "      <td>3</td>\n",
              "      <td>success</td>\n",
              "      <td>yes</td>\n",
              "    </tr>\n",
              "    <tr>\n",
              "      <th>45209</th>\n",
              "      <td>57</td>\n",
              "      <td>blue-collar</td>\n",
              "      <td>married</td>\n",
              "      <td>secondary</td>\n",
              "      <td>no</td>\n",
              "      <td>668</td>\n",
              "      <td>no</td>\n",
              "      <td>no</td>\n",
              "      <td>telephone</td>\n",
              "      <td>17</td>\n",
              "      <td>nov</td>\n",
              "      <td>508</td>\n",
              "      <td>4</td>\n",
              "      <td>-1</td>\n",
              "      <td>0</td>\n",
              "      <td>unknown</td>\n",
              "      <td>no</td>\n",
              "    </tr>\n",
              "    <tr>\n",
              "      <th>45210</th>\n",
              "      <td>37</td>\n",
              "      <td>entrepreneur</td>\n",
              "      <td>married</td>\n",
              "      <td>secondary</td>\n",
              "      <td>no</td>\n",
              "      <td>2971</td>\n",
              "      <td>no</td>\n",
              "      <td>no</td>\n",
              "      <td>cellular</td>\n",
              "      <td>17</td>\n",
              "      <td>nov</td>\n",
              "      <td>361</td>\n",
              "      <td>2</td>\n",
              "      <td>188</td>\n",
              "      <td>11</td>\n",
              "      <td>other</td>\n",
              "      <td>no</td>\n",
              "    </tr>\n",
              "  </tbody>\n",
              "</table>\n",
              "<p>45211 rows × 17 columns</p>\n",
              "</div>\n",
              "      <button class=\"colab-df-convert\" onclick=\"convertToInteractive('df-6ed72d47-e0c4-4562-b9d4-14b0cb941c3b')\"\n",
              "              title=\"Convert this dataframe to an interactive table.\"\n",
              "              style=\"display:none;\">\n",
              "        \n",
              "  <svg xmlns=\"http://www.w3.org/2000/svg\" height=\"24px\"viewBox=\"0 0 24 24\"\n",
              "       width=\"24px\">\n",
              "    <path d=\"M0 0h24v24H0V0z\" fill=\"none\"/>\n",
              "    <path d=\"M18.56 5.44l.94 2.06.94-2.06 2.06-.94-2.06-.94-.94-2.06-.94 2.06-2.06.94zm-11 1L8.5 8.5l.94-2.06 2.06-.94-2.06-.94L8.5 2.5l-.94 2.06-2.06.94zm10 10l.94 2.06.94-2.06 2.06-.94-2.06-.94-.94-2.06-.94 2.06-2.06.94z\"/><path d=\"M17.41 7.96l-1.37-1.37c-.4-.4-.92-.59-1.43-.59-.52 0-1.04.2-1.43.59L10.3 9.45l-7.72 7.72c-.78.78-.78 2.05 0 2.83L4 21.41c.39.39.9.59 1.41.59.51 0 1.02-.2 1.41-.59l7.78-7.78 2.81-2.81c.8-.78.8-2.07 0-2.86zM5.41 20L4 18.59l7.72-7.72 1.47 1.35L5.41 20z\"/>\n",
              "  </svg>\n",
              "      </button>\n",
              "      \n",
              "  <style>\n",
              "    .colab-df-container {\n",
              "      display:flex;\n",
              "      flex-wrap:wrap;\n",
              "      gap: 12px;\n",
              "    }\n",
              "\n",
              "    .colab-df-convert {\n",
              "      background-color: #E8F0FE;\n",
              "      border: none;\n",
              "      border-radius: 50%;\n",
              "      cursor: pointer;\n",
              "      display: none;\n",
              "      fill: #1967D2;\n",
              "      height: 32px;\n",
              "      padding: 0 0 0 0;\n",
              "      width: 32px;\n",
              "    }\n",
              "\n",
              "    .colab-df-convert:hover {\n",
              "      background-color: #E2EBFA;\n",
              "      box-shadow: 0px 1px 2px rgba(60, 64, 67, 0.3), 0px 1px 3px 1px rgba(60, 64, 67, 0.15);\n",
              "      fill: #174EA6;\n",
              "    }\n",
              "\n",
              "    [theme=dark] .colab-df-convert {\n",
              "      background-color: #3B4455;\n",
              "      fill: #D2E3FC;\n",
              "    }\n",
              "\n",
              "    [theme=dark] .colab-df-convert:hover {\n",
              "      background-color: #434B5C;\n",
              "      box-shadow: 0px 1px 3px 1px rgba(0, 0, 0, 0.15);\n",
              "      filter: drop-shadow(0px 1px 2px rgba(0, 0, 0, 0.3));\n",
              "      fill: #FFFFFF;\n",
              "    }\n",
              "  </style>\n",
              "\n",
              "      <script>\n",
              "        const buttonEl =\n",
              "          document.querySelector('#df-6ed72d47-e0c4-4562-b9d4-14b0cb941c3b button.colab-df-convert');\n",
              "        buttonEl.style.display =\n",
              "          google.colab.kernel.accessAllowed ? 'block' : 'none';\n",
              "\n",
              "        async function convertToInteractive(key) {\n",
              "          const element = document.querySelector('#df-6ed72d47-e0c4-4562-b9d4-14b0cb941c3b');\n",
              "          const dataTable =\n",
              "            await google.colab.kernel.invokeFunction('convertToInteractive',\n",
              "                                                     [key], {});\n",
              "          if (!dataTable) return;\n",
              "\n",
              "          const docLinkHtml = 'Like what you see? Visit the ' +\n",
              "            '<a target=\"_blank\" href=https://colab.research.google.com/notebooks/data_table.ipynb>data table notebook</a>'\n",
              "            + ' to learn more about interactive tables.';\n",
              "          element.innerHTML = '';\n",
              "          dataTable['output_type'] = 'display_data';\n",
              "          await google.colab.output.renderOutput(dataTable, element);\n",
              "          const docLink = document.createElement('div');\n",
              "          docLink.innerHTML = docLinkHtml;\n",
              "          element.appendChild(docLink);\n",
              "        }\n",
              "      </script>\n",
              "    </div>\n",
              "  </div>\n",
              "  "
            ]
          },
          "metadata": {},
          "execution_count": 2
        }
      ]
    },
    {
      "cell_type": "markdown",
      "source": [
        "**split dataset in features and target variable**"
      ],
      "metadata": {
        "id": "pIg9b0uQe2lS"
      }
    },
    {
      "cell_type": "code",
      "source": [
        "features = [\"age\" ,\"job\" ,\"marital\" ,\"education\" ,\"default\" ,\"balance\" ,\"housing\" ,\"loan\" ,\"contact\" ,\"day\" ,\"month\" ,\"duration\" ,\"campaign\" ,\"pdays\" ,\"previous\" ,\"poutcome\"]\n",
        "x = data[features] #feature variable\n",
        "y = data[\"y\"] #target variable"
      ],
      "metadata": {
        "id": "89SohAt_mYA2"
      },
      "execution_count": null,
      "outputs": []
    },
    {
      "cell_type": "code",
      "source": [
        "from sklearn.tree import  DecisionTreeClassifier\n",
        "from sklearn.model_selection import train_test_split\n",
        "from sklearn import metrics"
      ],
      "metadata": {
        "id": "B-aJa1eIoCm7"
      },
      "execution_count": null,
      "outputs": []
    },
    {
      "cell_type": "markdown",
      "source": [
        "**Split dataset into training set and test set**"
      ],
      "metadata": {
        "id": "hgp695Y1e60J"
      }
    },
    {
      "cell_type": "code",
      "source": [
        "from pandas.core.common import random_state\n",
        "x_train, x_test, y_train, y_test = train_test_split(x, y, test_size=0.3, random_state=1)\n",
        "x_train"
      ],
      "metadata": {
        "colab": {
          "base_uri": "https://localhost:8080/",
          "height": 424
        },
        "id": "FxO2ZLKfpi4v",
        "outputId": "a44d6062-6db2-42ee-fc8f-797eb88cc60c"
      },
      "execution_count": null,
      "outputs": [
        {
          "output_type": "execute_result",
          "data": {
            "text/plain": [
              "       age          job   marital  education default  balance housing loan  \\\n",
              "6149    32  blue-collar   married  secondary     yes     -238     yes   no   \n",
              "12403   34       admin.    single  secondary      no     -478     yes  yes   \n",
              "21645   32   technician   married  secondary      no      266     yes   no   \n",
              "29580   36  blue-collar   married  secondary     yes       13      no  yes   \n",
              "31245   23      student    single  secondary      no      486      no   no   \n",
              "...    ...          ...       ...        ...     ...      ...     ...  ...   \n",
              "43723   50   technician   married   tertiary      no     1830      no   no   \n",
              "32511   34   management  divorced   tertiary      no      528     yes   no   \n",
              "5192    48   management   married   tertiary      no     4191      no   no   \n",
              "12172   45       admin.   married    unknown      no     1783      no   no   \n",
              "33003   45  blue-collar   married    unknown      no      349     yes   no   \n",
              "\n",
              "        contact  day month  duration  campaign  pdays  previous poutcome  \n",
              "6149    unknown   27   may       427         1     -1         0  unknown  \n",
              "12403   unknown   27   jun       111         4     -1         0  unknown  \n",
              "21645  cellular   19   aug       168         2     -1         0  unknown  \n",
              "29580  cellular    3   feb       150         4     -1         0  unknown  \n",
              "31245  cellular    3   mar        87         1     -1         0  unknown  \n",
              "...         ...  ...   ...       ...       ...    ...       ...      ...  \n",
              "43723  cellular   14   may       318         3     -1         0  unknown  \n",
              "32511  cellular   17   apr       233         2     -1         0  unknown  \n",
              "5192    unknown   21   may       363         6     -1         0  unknown  \n",
              "12172   unknown   20   jun        11        11     -1         0  unknown  \n",
              "33003  cellular   17   apr       179         2    336         2    other  \n",
              "\n",
              "[31647 rows x 16 columns]"
            ],
            "text/html": [
              "\n",
              "  <div id=\"df-fff2a0af-ec89-4f46-9048-d9d4d6a64e88\">\n",
              "    <div class=\"colab-df-container\">\n",
              "      <div>\n",
              "<style scoped>\n",
              "    .dataframe tbody tr th:only-of-type {\n",
              "        vertical-align: middle;\n",
              "    }\n",
              "\n",
              "    .dataframe tbody tr th {\n",
              "        vertical-align: top;\n",
              "    }\n",
              "\n",
              "    .dataframe thead th {\n",
              "        text-align: right;\n",
              "    }\n",
              "</style>\n",
              "<table border=\"1\" class=\"dataframe\">\n",
              "  <thead>\n",
              "    <tr style=\"text-align: right;\">\n",
              "      <th></th>\n",
              "      <th>age</th>\n",
              "      <th>job</th>\n",
              "      <th>marital</th>\n",
              "      <th>education</th>\n",
              "      <th>default</th>\n",
              "      <th>balance</th>\n",
              "      <th>housing</th>\n",
              "      <th>loan</th>\n",
              "      <th>contact</th>\n",
              "      <th>day</th>\n",
              "      <th>month</th>\n",
              "      <th>duration</th>\n",
              "      <th>campaign</th>\n",
              "      <th>pdays</th>\n",
              "      <th>previous</th>\n",
              "      <th>poutcome</th>\n",
              "    </tr>\n",
              "  </thead>\n",
              "  <tbody>\n",
              "    <tr>\n",
              "      <th>6149</th>\n",
              "      <td>32</td>\n",
              "      <td>blue-collar</td>\n",
              "      <td>married</td>\n",
              "      <td>secondary</td>\n",
              "      <td>yes</td>\n",
              "      <td>-238</td>\n",
              "      <td>yes</td>\n",
              "      <td>no</td>\n",
              "      <td>unknown</td>\n",
              "      <td>27</td>\n",
              "      <td>may</td>\n",
              "      <td>427</td>\n",
              "      <td>1</td>\n",
              "      <td>-1</td>\n",
              "      <td>0</td>\n",
              "      <td>unknown</td>\n",
              "    </tr>\n",
              "    <tr>\n",
              "      <th>12403</th>\n",
              "      <td>34</td>\n",
              "      <td>admin.</td>\n",
              "      <td>single</td>\n",
              "      <td>secondary</td>\n",
              "      <td>no</td>\n",
              "      <td>-478</td>\n",
              "      <td>yes</td>\n",
              "      <td>yes</td>\n",
              "      <td>unknown</td>\n",
              "      <td>27</td>\n",
              "      <td>jun</td>\n",
              "      <td>111</td>\n",
              "      <td>4</td>\n",
              "      <td>-1</td>\n",
              "      <td>0</td>\n",
              "      <td>unknown</td>\n",
              "    </tr>\n",
              "    <tr>\n",
              "      <th>21645</th>\n",
              "      <td>32</td>\n",
              "      <td>technician</td>\n",
              "      <td>married</td>\n",
              "      <td>secondary</td>\n",
              "      <td>no</td>\n",
              "      <td>266</td>\n",
              "      <td>yes</td>\n",
              "      <td>no</td>\n",
              "      <td>cellular</td>\n",
              "      <td>19</td>\n",
              "      <td>aug</td>\n",
              "      <td>168</td>\n",
              "      <td>2</td>\n",
              "      <td>-1</td>\n",
              "      <td>0</td>\n",
              "      <td>unknown</td>\n",
              "    </tr>\n",
              "    <tr>\n",
              "      <th>29580</th>\n",
              "      <td>36</td>\n",
              "      <td>blue-collar</td>\n",
              "      <td>married</td>\n",
              "      <td>secondary</td>\n",
              "      <td>yes</td>\n",
              "      <td>13</td>\n",
              "      <td>no</td>\n",
              "      <td>yes</td>\n",
              "      <td>cellular</td>\n",
              "      <td>3</td>\n",
              "      <td>feb</td>\n",
              "      <td>150</td>\n",
              "      <td>4</td>\n",
              "      <td>-1</td>\n",
              "      <td>0</td>\n",
              "      <td>unknown</td>\n",
              "    </tr>\n",
              "    <tr>\n",
              "      <th>31245</th>\n",
              "      <td>23</td>\n",
              "      <td>student</td>\n",
              "      <td>single</td>\n",
              "      <td>secondary</td>\n",
              "      <td>no</td>\n",
              "      <td>486</td>\n",
              "      <td>no</td>\n",
              "      <td>no</td>\n",
              "      <td>cellular</td>\n",
              "      <td>3</td>\n",
              "      <td>mar</td>\n",
              "      <td>87</td>\n",
              "      <td>1</td>\n",
              "      <td>-1</td>\n",
              "      <td>0</td>\n",
              "      <td>unknown</td>\n",
              "    </tr>\n",
              "    <tr>\n",
              "      <th>...</th>\n",
              "      <td>...</td>\n",
              "      <td>...</td>\n",
              "      <td>...</td>\n",
              "      <td>...</td>\n",
              "      <td>...</td>\n",
              "      <td>...</td>\n",
              "      <td>...</td>\n",
              "      <td>...</td>\n",
              "      <td>...</td>\n",
              "      <td>...</td>\n",
              "      <td>...</td>\n",
              "      <td>...</td>\n",
              "      <td>...</td>\n",
              "      <td>...</td>\n",
              "      <td>...</td>\n",
              "      <td>...</td>\n",
              "    </tr>\n",
              "    <tr>\n",
              "      <th>43723</th>\n",
              "      <td>50</td>\n",
              "      <td>technician</td>\n",
              "      <td>married</td>\n",
              "      <td>tertiary</td>\n",
              "      <td>no</td>\n",
              "      <td>1830</td>\n",
              "      <td>no</td>\n",
              "      <td>no</td>\n",
              "      <td>cellular</td>\n",
              "      <td>14</td>\n",
              "      <td>may</td>\n",
              "      <td>318</td>\n",
              "      <td>3</td>\n",
              "      <td>-1</td>\n",
              "      <td>0</td>\n",
              "      <td>unknown</td>\n",
              "    </tr>\n",
              "    <tr>\n",
              "      <th>32511</th>\n",
              "      <td>34</td>\n",
              "      <td>management</td>\n",
              "      <td>divorced</td>\n",
              "      <td>tertiary</td>\n",
              "      <td>no</td>\n",
              "      <td>528</td>\n",
              "      <td>yes</td>\n",
              "      <td>no</td>\n",
              "      <td>cellular</td>\n",
              "      <td>17</td>\n",
              "      <td>apr</td>\n",
              "      <td>233</td>\n",
              "      <td>2</td>\n",
              "      <td>-1</td>\n",
              "      <td>0</td>\n",
              "      <td>unknown</td>\n",
              "    </tr>\n",
              "    <tr>\n",
              "      <th>5192</th>\n",
              "      <td>48</td>\n",
              "      <td>management</td>\n",
              "      <td>married</td>\n",
              "      <td>tertiary</td>\n",
              "      <td>no</td>\n",
              "      <td>4191</td>\n",
              "      <td>no</td>\n",
              "      <td>no</td>\n",
              "      <td>unknown</td>\n",
              "      <td>21</td>\n",
              "      <td>may</td>\n",
              "      <td>363</td>\n",
              "      <td>6</td>\n",
              "      <td>-1</td>\n",
              "      <td>0</td>\n",
              "      <td>unknown</td>\n",
              "    </tr>\n",
              "    <tr>\n",
              "      <th>12172</th>\n",
              "      <td>45</td>\n",
              "      <td>admin.</td>\n",
              "      <td>married</td>\n",
              "      <td>unknown</td>\n",
              "      <td>no</td>\n",
              "      <td>1783</td>\n",
              "      <td>no</td>\n",
              "      <td>no</td>\n",
              "      <td>unknown</td>\n",
              "      <td>20</td>\n",
              "      <td>jun</td>\n",
              "      <td>11</td>\n",
              "      <td>11</td>\n",
              "      <td>-1</td>\n",
              "      <td>0</td>\n",
              "      <td>unknown</td>\n",
              "    </tr>\n",
              "    <tr>\n",
              "      <th>33003</th>\n",
              "      <td>45</td>\n",
              "      <td>blue-collar</td>\n",
              "      <td>married</td>\n",
              "      <td>unknown</td>\n",
              "      <td>no</td>\n",
              "      <td>349</td>\n",
              "      <td>yes</td>\n",
              "      <td>no</td>\n",
              "      <td>cellular</td>\n",
              "      <td>17</td>\n",
              "      <td>apr</td>\n",
              "      <td>179</td>\n",
              "      <td>2</td>\n",
              "      <td>336</td>\n",
              "      <td>2</td>\n",
              "      <td>other</td>\n",
              "    </tr>\n",
              "  </tbody>\n",
              "</table>\n",
              "<p>31647 rows × 16 columns</p>\n",
              "</div>\n",
              "      <button class=\"colab-df-convert\" onclick=\"convertToInteractive('df-fff2a0af-ec89-4f46-9048-d9d4d6a64e88')\"\n",
              "              title=\"Convert this dataframe to an interactive table.\"\n",
              "              style=\"display:none;\">\n",
              "        \n",
              "  <svg xmlns=\"http://www.w3.org/2000/svg\" height=\"24px\"viewBox=\"0 0 24 24\"\n",
              "       width=\"24px\">\n",
              "    <path d=\"M0 0h24v24H0V0z\" fill=\"none\"/>\n",
              "    <path d=\"M18.56 5.44l.94 2.06.94-2.06 2.06-.94-2.06-.94-.94-2.06-.94 2.06-2.06.94zm-11 1L8.5 8.5l.94-2.06 2.06-.94-2.06-.94L8.5 2.5l-.94 2.06-2.06.94zm10 10l.94 2.06.94-2.06 2.06-.94-2.06-.94-.94-2.06-.94 2.06-2.06.94z\"/><path d=\"M17.41 7.96l-1.37-1.37c-.4-.4-.92-.59-1.43-.59-.52 0-1.04.2-1.43.59L10.3 9.45l-7.72 7.72c-.78.78-.78 2.05 0 2.83L4 21.41c.39.39.9.59 1.41.59.51 0 1.02-.2 1.41-.59l7.78-7.78 2.81-2.81c.8-.78.8-2.07 0-2.86zM5.41 20L4 18.59l7.72-7.72 1.47 1.35L5.41 20z\"/>\n",
              "  </svg>\n",
              "      </button>\n",
              "      \n",
              "  <style>\n",
              "    .colab-df-container {\n",
              "      display:flex;\n",
              "      flex-wrap:wrap;\n",
              "      gap: 12px;\n",
              "    }\n",
              "\n",
              "    .colab-df-convert {\n",
              "      background-color: #E8F0FE;\n",
              "      border: none;\n",
              "      border-radius: 50%;\n",
              "      cursor: pointer;\n",
              "      display: none;\n",
              "      fill: #1967D2;\n",
              "      height: 32px;\n",
              "      padding: 0 0 0 0;\n",
              "      width: 32px;\n",
              "    }\n",
              "\n",
              "    .colab-df-convert:hover {\n",
              "      background-color: #E2EBFA;\n",
              "      box-shadow: 0px 1px 2px rgba(60, 64, 67, 0.3), 0px 1px 3px 1px rgba(60, 64, 67, 0.15);\n",
              "      fill: #174EA6;\n",
              "    }\n",
              "\n",
              "    [theme=dark] .colab-df-convert {\n",
              "      background-color: #3B4455;\n",
              "      fill: #D2E3FC;\n",
              "    }\n",
              "\n",
              "    [theme=dark] .colab-df-convert:hover {\n",
              "      background-color: #434B5C;\n",
              "      box-shadow: 0px 1px 3px 1px rgba(0, 0, 0, 0.15);\n",
              "      filter: drop-shadow(0px 1px 2px rgba(0, 0, 0, 0.3));\n",
              "      fill: #FFFFFF;\n",
              "    }\n",
              "  </style>\n",
              "\n",
              "      <script>\n",
              "        const buttonEl =\n",
              "          document.querySelector('#df-fff2a0af-ec89-4f46-9048-d9d4d6a64e88 button.colab-df-convert');\n",
              "        buttonEl.style.display =\n",
              "          google.colab.kernel.accessAllowed ? 'block' : 'none';\n",
              "\n",
              "        async function convertToInteractive(key) {\n",
              "          const element = document.querySelector('#df-fff2a0af-ec89-4f46-9048-d9d4d6a64e88');\n",
              "          const dataTable =\n",
              "            await google.colab.kernel.invokeFunction('convertToInteractive',\n",
              "                                                     [key], {});\n",
              "          if (!dataTable) return;\n",
              "\n",
              "          const docLinkHtml = 'Like what you see? Visit the ' +\n",
              "            '<a target=\"_blank\" href=https://colab.research.google.com/notebooks/data_table.ipynb>data table notebook</a>'\n",
              "            + ' to learn more about interactive tables.';\n",
              "          element.innerHTML = '';\n",
              "          dataTable['output_type'] = 'display_data';\n",
              "          await google.colab.output.renderOutput(dataTable, element);\n",
              "          const docLink = document.createElement('div');\n",
              "          docLink.innerHTML = docLinkHtml;\n",
              "          element.appendChild(docLink);\n",
              "        }\n",
              "      </script>\n",
              "    </div>\n",
              "  </div>\n",
              "  "
            ]
          },
          "metadata": {},
          "execution_count": 5
        }
      ]
    },
    {
      "cell_type": "markdown",
      "source": [
        "**This code applies label encoding to all categorical columns in both the training and test sets. It uses the LabelEncoder class from scikit-learn to convert each categorical column to numerical values.**"
      ],
      "metadata": {
        "id": "mdRpoJFsHSVS"
      }
    },
    {
      "cell_type": "code",
      "source": [
        "from sklearn.preprocessing import LabelEncoder\n",
        "\n",
        "# create an instance of LabelEncoder\n",
        "le = LabelEncoder()\n",
        "\n",
        "# apply label encoding to all categorical columns in the training set\n",
        "for col in x_train.select_dtypes(include=['object']):\n",
        "    x_train[col] = le.fit_transform(x_train[col])\n",
        "\n",
        "# apply label encoding to all categorical columns in the test set\n",
        "for col in x_test.select_dtypes(include=['object']):\n",
        "    x_test[col] = le.fit_transform(x_test[col])\n"
      ],
      "metadata": {
        "id": "kKhN74iTu6A-"
      },
      "execution_count": null,
      "outputs": []
    },
    {
      "cell_type": "markdown",
      "source": [
        "**Create Decision Tree classifer object**\n",
        "# **Train Decision Tree Classifer**"
      ],
      "metadata": {
        "id": "g7p5pZYMfHUy"
      }
    },
    {
      "cell_type": "code",
      "source": [
        "# fit the decision tree model\n",
        "clf = DecisionTreeClassifier()\n",
        "clf.fit(x_train, y_train)"
      ],
      "metadata": {
        "colab": {
          "base_uri": "https://localhost:8080/",
          "height": 75
        },
        "id": "BkScpgtUsbmU",
        "outputId": "16cc5d22-036a-453d-b481-3f566b8b3add"
      },
      "execution_count": null,
      "outputs": [
        {
          "output_type": "execute_result",
          "data": {
            "text/plain": [
              "DecisionTreeClassifier()"
            ],
            "text/html": [
              "<style>#sk-container-id-1 {color: black;background-color: white;}#sk-container-id-1 pre{padding: 0;}#sk-container-id-1 div.sk-toggleable {background-color: white;}#sk-container-id-1 label.sk-toggleable__label {cursor: pointer;display: block;width: 100%;margin-bottom: 0;padding: 0.3em;box-sizing: border-box;text-align: center;}#sk-container-id-1 label.sk-toggleable__label-arrow:before {content: \"▸\";float: left;margin-right: 0.25em;color: #696969;}#sk-container-id-1 label.sk-toggleable__label-arrow:hover:before {color: black;}#sk-container-id-1 div.sk-estimator:hover label.sk-toggleable__label-arrow:before {color: black;}#sk-container-id-1 div.sk-toggleable__content {max-height: 0;max-width: 0;overflow: hidden;text-align: left;background-color: #f0f8ff;}#sk-container-id-1 div.sk-toggleable__content pre {margin: 0.2em;color: black;border-radius: 0.25em;background-color: #f0f8ff;}#sk-container-id-1 input.sk-toggleable__control:checked~div.sk-toggleable__content {max-height: 200px;max-width: 100%;overflow: auto;}#sk-container-id-1 input.sk-toggleable__control:checked~label.sk-toggleable__label-arrow:before {content: \"▾\";}#sk-container-id-1 div.sk-estimator input.sk-toggleable__control:checked~label.sk-toggleable__label {background-color: #d4ebff;}#sk-container-id-1 div.sk-label input.sk-toggleable__control:checked~label.sk-toggleable__label {background-color: #d4ebff;}#sk-container-id-1 input.sk-hidden--visually {border: 0;clip: rect(1px 1px 1px 1px);clip: rect(1px, 1px, 1px, 1px);height: 1px;margin: -1px;overflow: hidden;padding: 0;position: absolute;width: 1px;}#sk-container-id-1 div.sk-estimator {font-family: monospace;background-color: #f0f8ff;border: 1px dotted black;border-radius: 0.25em;box-sizing: border-box;margin-bottom: 0.5em;}#sk-container-id-1 div.sk-estimator:hover {background-color: #d4ebff;}#sk-container-id-1 div.sk-parallel-item::after {content: \"\";width: 100%;border-bottom: 1px solid gray;flex-grow: 1;}#sk-container-id-1 div.sk-label:hover label.sk-toggleable__label {background-color: #d4ebff;}#sk-container-id-1 div.sk-serial::before {content: \"\";position: absolute;border-left: 1px solid gray;box-sizing: border-box;top: 0;bottom: 0;left: 50%;z-index: 0;}#sk-container-id-1 div.sk-serial {display: flex;flex-direction: column;align-items: center;background-color: white;padding-right: 0.2em;padding-left: 0.2em;position: relative;}#sk-container-id-1 div.sk-item {position: relative;z-index: 1;}#sk-container-id-1 div.sk-parallel {display: flex;align-items: stretch;justify-content: center;background-color: white;position: relative;}#sk-container-id-1 div.sk-item::before, #sk-container-id-1 div.sk-parallel-item::before {content: \"\";position: absolute;border-left: 1px solid gray;box-sizing: border-box;top: 0;bottom: 0;left: 50%;z-index: -1;}#sk-container-id-1 div.sk-parallel-item {display: flex;flex-direction: column;z-index: 1;position: relative;background-color: white;}#sk-container-id-1 div.sk-parallel-item:first-child::after {align-self: flex-end;width: 50%;}#sk-container-id-1 div.sk-parallel-item:last-child::after {align-self: flex-start;width: 50%;}#sk-container-id-1 div.sk-parallel-item:only-child::after {width: 0;}#sk-container-id-1 div.sk-dashed-wrapped {border: 1px dashed gray;margin: 0 0.4em 0.5em 0.4em;box-sizing: border-box;padding-bottom: 0.4em;background-color: white;}#sk-container-id-1 div.sk-label label {font-family: monospace;font-weight: bold;display: inline-block;line-height: 1.2em;}#sk-container-id-1 div.sk-label-container {text-align: center;}#sk-container-id-1 div.sk-container {/* jupyter's `normalize.less` sets `[hidden] { display: none; }` but bootstrap.min.css set `[hidden] { display: none !important; }` so we also need the `!important` here to be able to override the default hidden behavior on the sphinx rendered scikit-learn.org. See: https://github.com/scikit-learn/scikit-learn/issues/21755 */display: inline-block !important;position: relative;}#sk-container-id-1 div.sk-text-repr-fallback {display: none;}</style><div id=\"sk-container-id-1\" class=\"sk-top-container\"><div class=\"sk-text-repr-fallback\"><pre>DecisionTreeClassifier()</pre><b>In a Jupyter environment, please rerun this cell to show the HTML representation or trust the notebook. <br />On GitHub, the HTML representation is unable to render, please try loading this page with nbviewer.org.</b></div><div class=\"sk-container\" hidden><div class=\"sk-item\"><div class=\"sk-estimator sk-toggleable\"><input class=\"sk-toggleable__control sk-hidden--visually\" id=\"sk-estimator-id-1\" type=\"checkbox\" checked><label for=\"sk-estimator-id-1\" class=\"sk-toggleable__label sk-toggleable__label-arrow\">DecisionTreeClassifier</label><div class=\"sk-toggleable__content\"><pre>DecisionTreeClassifier()</pre></div></div></div></div></div>"
            ]
          },
          "metadata": {},
          "execution_count": 7
        }
      ]
    },
    {
      "cell_type": "markdown",
      "source": [
        "**Predict the response for test dataset**"
      ],
      "metadata": {
        "id": "LqVdUUpjfgIH"
      }
    },
    {
      "cell_type": "code",
      "source": [
        "# predict on the test set\n",
        "y_pred = clf.predict(x_test)"
      ],
      "metadata": {
        "id": "nB_6VkJfsgz3"
      },
      "execution_count": null,
      "outputs": []
    },
    {
      "cell_type": "markdown",
      "source": [
        "**Let's estimate, how accurately the classifier or model can predict the age of houses (median age for the neighborhood).**"
      ],
      "metadata": {
        "id": "v8jJCsfGfnCC"
      }
    },
    {
      "cell_type": "code",
      "source": [
        "print(\"Accuracy:\",metrics.accuracy_score(y_test,y_pred))"
      ],
      "metadata": {
        "colab": {
          "base_uri": "https://localhost:8080/"
        },
        "id": "hKi3oxZeuF1g",
        "outputId": "87133028-5895-42f7-f41f-86f179958dda"
      },
      "execution_count": null,
      "outputs": [
        {
          "output_type": "stream",
          "name": "stdout",
          "text": [
            "Accuracy: 0.8712769094662342\n"
          ]
        }
      ]
    },
    {
      "cell_type": "markdown",
      "source": [
        "**Improving Performance**\n",
        "\n",
        "criterion : optional (default=”gini”) or Choose attribute selection measure\n",
        "\n",
        "max_depth : int or None, optional (default=None) or Maximum Depth of a Tree"
      ],
      "metadata": {
        "id": "9kDYuIDLfvUX"
      }
    },
    {
      "cell_type": "code",
      "source": [
        "clf = DecisionTreeClassifier(criterion=\"entropy\",max_depth=2)\n",
        "clf = clf.fit(x_train,y_train)\n",
        "y_pred = clf.predict(x_test)\n",
        "print(\"Accuracy:\",metrics.accuracy_score(y_test,y_pred))"
      ],
      "metadata": {
        "colab": {
          "base_uri": "https://localhost:8080/"
        },
        "id": "tIoZODA1ntZt",
        "outputId": "388846ce-30d3-42d6-eeff-366ed63b6958"
      },
      "execution_count": null,
      "outputs": [
        {
          "output_type": "stream",
          "name": "stdout",
          "text": [
            "Accuracy: 0.8860218224712474\n"
          ]
        }
      ]
    },
    {
      "cell_type": "markdown",
      "source": [
        "**Visualize the Tree**"
      ],
      "metadata": {
        "id": "SRQPn7Pxf0se"
      }
    },
    {
      "cell_type": "code",
      "source": [
        "from matplotlib import pyplot as plt\n",
        "from sklearn import tree\n",
        "fig = plt.figure(figsize=(20,15))\n",
        "_ = tree.plot_tree(clf,filled=True)"
      ],
      "metadata": {
        "colab": {
          "base_uri": "https://localhost:8080/",
          "height": 1000
        },
        "id": "chCnVViykv_a",
        "outputId": "0fbd76b6-ec2b-4645-83d4-6fffcd9110b6"
      },
      "execution_count": null,
      "outputs": [
        {
          "output_type": "display_data",
          "data": {
            "text/plain": [
              "<Figure size 2000x1500 with 1 Axes>"
            ],
            "image/png": "[encoded data removed]"
          },
          "metadata": {}
        }
      ]
    },
    {
      "cell_type": "markdown",
      "source": [
        "# **Random Forest**"
      ],
      "metadata": {
        "id": "jOMQichjf5f2"
      }
    },
    {
      "cell_type": "code",
      "source": [
        "from sklearn.ensemble import RandomForestClassifier\n",
        "clf = RandomForestClassifier(n_estimators = 100, max_depth=3,criterion=\"entropy\" ,random_state=0)"
      ],
      "metadata": {
        "id": "z7dSAIPQgAyk"
      },
      "execution_count": null,
      "outputs": []
    },
    {
      "cell_type": "markdown",
      "source": [
        "**Let's train this model using the training set and its corresponding labels**"
      ],
      "metadata": {
        "id": "EjWURHwygBSO"
      }
    },
    {
      "cell_type": "code",
      "source": [
        "clf = clf.fit(x_train,y_train)"
      ],
      "metadata": {
        "id": "2SIXVgkWgI8t"
      },
      "execution_count": null,
      "outputs": []
    },
    {
      "cell_type": "markdown",
      "source": [
        "**Apply the learned model on the test data**"
      ],
      "metadata": {
        "id": "FuMrQq_8gGCq"
      }
    },
    {
      "cell_type": "code",
      "source": [
        "y_pred = clf.predict(x_test)"
      ],
      "metadata": {
        "id": "kukqtQSKgQKj"
      },
      "execution_count": null,
      "outputs": []
    },
    {
      "cell_type": "markdown",
      "source": [
        "**Now Let's See the model's performance on the test data First, we calculate the accuracy. We also show a confution matrix for each class**"
      ],
      "metadata": {
        "id": "pCHrDOcCgKiP"
      }
    },
    {
      "cell_type": "code",
      "source": [
        "print(\"Accuracy:\",metrics.accuracy_score(y_test, y_pred))\n",
        "print(\"Confusion\", metrics.confusion_matrix(y_test, y_pred))"
      ],
      "metadata": {
        "colab": {
          "base_uri": "https://localhost:8080/"
        },
        "id": "OXIo6M0SgZ3K",
        "outputId": "cc710ac6-8e41-4998-dad0-1ce59042e945"
      },
      "execution_count": null,
      "outputs": [
        {
          "output_type": "stream",
          "name": "stdout",
          "text": [
            "Accuracy: 0.8857269242111472\n",
            "Confusion [[12013     0]\n",
            " [ 1550     1]]\n"
          ]
        }
      ]
    },
    {
      "cell_type": "markdown",
      "source": [
        "Now let's move on wit precison, recall, and F1-score. ** **Since this is a multi-class classification problem, we take the average for each class (treat it as several binary classification) **bold text**"
      ],
      "metadata": {
        "id": "LR41-0PQgRdY"
      }
    },
    {
      "cell_type": "code",
      "source": [
        "print(\"Precision:\", metrics.precision_score(y_test, y_pred, average='macro'))\n",
        "print(\"Recall:\", metrics.recall_score(y_test, y_pred, average='macro'))\n",
        "print(\"F1_score:\", metrics.f1_score(y_test, y_pred, average='macro'))"
      ],
      "metadata": {
        "colab": {
          "base_uri": "https://localhost:8080/"
        },
        "id": "XtRuXNJUgd3i",
        "outputId": "5afce4d8-6079-4fe7-8a7e-01a49b7ca216"
      },
      "execution_count": null,
      "outputs": [
        {
          "output_type": "stream",
          "name": "stdout",
          "text": [
            "Precision: 0.9428592494285926\n",
            "Recall: 0.5003223726627982\n",
            "F1_score: 0.47034248441676957\n"
          ]
        }
      ]
    },
    {
      "cell_type": "markdown",
      "source": [
        "**Or we can get all three in one line of code**"
      ],
      "metadata": {
        "id": "H9UNBKiFgedW"
      }
    },
    {
      "cell_type": "code",
      "source": [
        "print(\"all:\", metrics.precision_recall_fscore_support(y_test, y_pred, average='macro'))"
      ],
      "metadata": {
        "colab": {
          "base_uri": "https://localhost:8080/"
        },
        "id": "Hsx19Sk1gvAv",
        "outputId": "036637ea-76a2-42ce-d545-205de5d55544"
      },
      "execution_count": null,
      "outputs": [
        {
          "output_type": "stream",
          "name": "stdout",
          "text": [
            "all: (0.9428592494285926, 0.5003223726627982, 0.47034248441676957, None)\n"
          ]
        }
      ]
    },
    {
      "cell_type": "code",
      "source": [
        "print(\"Accuracy:\",metrics.accuracy_score(y_test,y_pred))"
      ],
      "metadata": {
        "colab": {
          "base_uri": "https://localhost:8080/"
        },
        "id": "xM0_o1k7gjTK",
        "outputId": "1088e3df-e3ff-4ec0-a37d-5ba83474f63c"
      },
      "execution_count": null,
      "outputs": [
        {
          "output_type": "stream",
          "name": "stdout",
          "text": [
            "Accuracy: 0.8857269242111472\n"
          ]
        }
      ]
    },
    {
      "cell_type": "code",
      "source": [
        "from keras.utils import to_categorical"
      ],
      "metadata": {
        "id": "11zDYYSgttMV"
      },
      "execution_count": null,
      "outputs": []
    },
    {
      "cell_type": "code",
      "source": [
        "# create an instance of LabelEncoder\n",
        "le = LabelEncoder()\n",
        "\n",
        "# encode y_train and y_test\n",
        "y_train_encoded = le.fit_transform(y_train)\n",
        "y_test_encoded = le.transform(y_test)\n",
        "\n",
        "# fit the model on the training data\n",
        "clf.fit(x_train, y_train_encoded)"
      ],
      "metadata": {
        "colab": {
          "base_uri": "https://localhost:8080/",
          "height": 75
        },
        "id": "KxJw2fjbsa9d",
        "outputId": "95923228-0f64-4066-d352-d89bb582391b"
      },
      "execution_count": null,
      "outputs": [
        {
          "output_type": "execute_result",
          "data": {
            "text/plain": [
              "RandomForestClassifier(criterion='entropy', max_depth=3, random_state=0)"
            ],
            "text/html": [
              "<style>#sk-container-id-2 {color: black;background-color: white;}#sk-container-id-2 pre{padding: 0;}#sk-container-id-2 div.sk-toggleable {background-color: white;}#sk-container-id-2 label.sk-toggleable__label {cursor: pointer;display: block;width: 100%;margin-bottom: 0;padding: 0.3em;box-sizing: border-box;text-align: center;}#sk-container-id-2 label.sk-toggleable__label-arrow:before {content: \"▸\";float: left;margin-right: 0.25em;color: #696969;}#sk-container-id-2 label.sk-toggleable__label-arrow:hover:before {color: black;}#sk-container-id-2 div.sk-estimator:hover label.sk-toggleable__label-arrow:before {color: black;}#sk-container-id-2 div.sk-toggleable__content {max-height: 0;max-width: 0;overflow: hidden;text-align: left;background-color: #f0f8ff;}#sk-container-id-2 div.sk-toggleable__content pre {margin: 0.2em;color: black;border-radius: 0.25em;background-color: #f0f8ff;}#sk-container-id-2 input.sk-toggleable__control:checked~div.sk-toggleable__content {max-height: 200px;max-width: 100%;overflow: auto;}#sk-container-id-2 input.sk-toggleable__control:checked~label.sk-toggleable__label-arrow:before {content: \"▾\";}#sk-container-id-2 div.sk-estimator input.sk-toggleable__control:checked~label.sk-toggleable__label {background-color: #d4ebff;}#sk-container-id-2 div.sk-label input.sk-toggleable__control:checked~label.sk-toggleable__label {background-color: #d4ebff;}#sk-container-id-2 input.sk-hidden--visually {border: 0;clip: rect(1px 1px 1px 1px);clip: rect(1px, 1px, 1px, 1px);height: 1px;margin: -1px;overflow: hidden;padding: 0;position: absolute;width: 1px;}#sk-container-id-2 div.sk-estimator {font-family: monospace;background-color: #f0f8ff;border: 1px dotted black;border-radius: 0.25em;box-sizing: border-box;margin-bottom: 0.5em;}#sk-container-id-2 div.sk-estimator:hover {background-color: #d4ebff;}#sk-container-id-2 div.sk-parallel-item::after {content: \"\";width: 100%;border-bottom: 1px solid gray;flex-grow: 1;}#sk-container-id-2 div.sk-label:hover label.sk-toggleable__label {background-color: #d4ebff;}#sk-container-id-2 div.sk-serial::before {content: \"\";position: absolute;border-left: 1px solid gray;box-sizing: border-box;top: 0;bottom: 0;left: 50%;z-index: 0;}#sk-container-id-2 div.sk-serial {display: flex;flex-direction: column;align-items: center;background-color: white;padding-right: 0.2em;padding-left: 0.2em;position: relative;}#sk-container-id-2 div.sk-item {position: relative;z-index: 1;}#sk-container-id-2 div.sk-parallel {display: flex;align-items: stretch;justify-content: center;background-color: white;position: relative;}#sk-container-id-2 div.sk-item::before, #sk-container-id-2 div.sk-parallel-item::before {content: \"\";position: absolute;border-left: 1px solid gray;box-sizing: border-box;top: 0;bottom: 0;left: 50%;z-index: -1;}#sk-container-id-2 div.sk-parallel-item {display: flex;flex-direction: column;z-index: 1;position: relative;background-color: white;}#sk-container-id-2 div.sk-parallel-item:first-child::after {align-self: flex-end;width: 50%;}#sk-container-id-2 div.sk-parallel-item:last-child::after {align-self: flex-start;width: 50%;}#sk-container-id-2 div.sk-parallel-item:only-child::after {width: 0;}#sk-container-id-2 div.sk-dashed-wrapped {border: 1px dashed gray;margin: 0 0.4em 0.5em 0.4em;box-sizing: border-box;padding-bottom: 0.4em;background-color: white;}#sk-container-id-2 div.sk-label label {font-family: monospace;font-weight: bold;display: inline-block;line-height: 1.2em;}#sk-container-id-2 div.sk-label-container {text-align: center;}#sk-container-id-2 div.sk-container {/* jupyter's `normalize.less` sets `[hidden] { display: none; }` but bootstrap.min.css set `[hidden] { display: none !important; }` so we also need the `!important` here to be able to override the default hidden behavior on the sphinx rendered scikit-learn.org. See: https://github.com/scikit-learn/scikit-learn/issues/21755 */display: inline-block !important;position: relative;}#sk-container-id-2 div.sk-text-repr-fallback {display: none;}</style><div id=\"sk-container-id-2\" class=\"sk-top-container\"><div class=\"sk-text-repr-fallback\"><pre>RandomForestClassifier(criterion=&#x27;entropy&#x27;, max_depth=3, random_state=0)</pre><b>In a Jupyter environment, please rerun this cell to show the HTML representation or trust the notebook. <br />On GitHub, the HTML representation is unable to render, please try loading this page with nbviewer.org.</b></div><div class=\"sk-container\" hidden><div class=\"sk-item\"><div class=\"sk-estimator sk-toggleable\"><input class=\"sk-toggleable__control sk-hidden--visually\" id=\"sk-estimator-id-2\" type=\"checkbox\" checked><label for=\"sk-estimator-id-2\" class=\"sk-toggleable__label sk-toggleable__label-arrow\">RandomForestClassifier</label><div class=\"sk-toggleable__content\"><pre>RandomForestClassifier(criterion=&#x27;entropy&#x27;, max_depth=3, random_state=0)</pre></div></div></div></div></div>"
            ]
          },
          "metadata": {},
          "execution_count": 20
        }
      ]
    },
    {
      "cell_type": "markdown",
      "source": [
        "**Finally, let's get the AUC as well.**"
      ],
      "metadata": {
        "id": "tlLaZ7u6hHgs"
      }
    },
    {
      "cell_type": "code",
      "source": [
        "# compute the AUC score\n",
        "print(\"auc:\", metrics.roc_auc_score(to_categorical(y_test_encoded), clf.predict_proba(x_test), average='macro', multi_class='ovo'))"
      ],
      "metadata": {
        "colab": {
          "base_uri": "https://localhost:8080/"
        },
        "id": "u6lcX11jstYG",
        "outputId": "a927aa8b-390e-44dc-8e5c-5f8885dbaec1"
      },
      "execution_count": null,
      "outputs": [
        {
          "output_type": "stream",
          "name": "stdout",
          "text": [
            "auc: 0.8853384601669704\n"
          ]
        }
      ]
    },
    {
      "cell_type": "markdown",
      "source": [
        "**Try to plot the ROC curve**"
      ],
      "metadata": {
        "id": "ML80ZhkQhNIa"
      }
    },
    {
      "cell_type": "code",
      "source": [
        "from sklearn import metrics\n",
        "from sklearn.preprocessing import LabelBinarizer\n",
        "label_binarizer = LabelBinarizer().fit(y_train)\n",
        "y_onehot_test = label_binarizer.transform(y_test)\n",
        "y_onehot_test.shape #(n_samples, n_classes)"
      ],
      "metadata": {
        "colab": {
          "base_uri": "https://localhost:8080/"
        },
        "id": "iVuy88tBTzG9",
        "outputId": "2f378058-0ae2-42e8-e1ac-3f56d2e4de94"
      },
      "execution_count": null,
      "outputs": [
        {
          "output_type": "execute_result",
          "data": {
            "text/plain": [
              "(13564, 1)"
            ]
          },
          "metadata": {},
          "execution_count": 22
        }
      ]
    },
    {
      "cell_type": "code",
      "source": [
        "y_test_encoded.shape #(n_samples, n_classes)"
      ],
      "metadata": {
        "colab": {
          "base_uri": "https://localhost:8080/"
        },
        "id": "vLPafUnUUE6f",
        "outputId": "766a929c-20b8-421f-825c-b7f44479bee1"
      },
      "execution_count": null,
      "outputs": [
        {
          "output_type": "execute_result",
          "data": {
            "text/plain": [
              "(13564,)"
            ]
          },
          "metadata": {},
          "execution_count": 23
        }
      ]
    },
    {
      "cell_type": "code",
      "source": [
        "to_categorical(y_test_encoded).shape #(n_samples, n_classes)"
      ],
      "metadata": {
        "colab": {
          "base_uri": "https://localhost:8080/"
        },
        "id": "ReQr3fQFPU7r",
        "outputId": "451839d6-7b73-49c5-f2a3-e38542b9ac3b"
      },
      "execution_count": null,
      "outputs": [
        {
          "output_type": "execute_result",
          "data": {
            "text/plain": [
              "(13564, 2)"
            ]
          },
          "metadata": {},
          "execution_count": 24
        }
      ]
    },
    {
      "cell_type": "markdown",
      "source": [
        "**class_of_interest =0**"
      ],
      "metadata": {
        "id": "Z8W3DCVahei3"
      }
    },
    {
      "cell_type": "code",
      "source": [
        "class_of_interest =0\n",
        "class_id =0\n"
      ],
      "metadata": {
        "id": "TmECxZfZsEBt"
      },
      "execution_count": null,
      "outputs": []
    },
    {
      "cell_type": "markdown",
      "source": [
        "**Note that to_categorical is used to convert y_test_encoded to a one-hot encoded array, which is necessary for multi-class ROC curve plotting.**"
      ],
      "metadata": {
        "id": "_FUpJPTOF20T"
      }
    },
    {
      "cell_type": "code",
      "source": [
        "import matplotlib.pyplot as plt\n",
        "from sklearn.metrics import RocCurveDisplay\n",
        "RocCurveDisplay.from_predictions(\n",
        "    to_categorical(y_test_encoded)[:, class_id],\n",
        "    clf.predict_proba(x_test)[:, class_id],\n",
        "    name=f\"{class_of_interest} vs the rest\",\n",
        "    color=\"darkorange\",\n",
        ")\n",
        "plt.plot([0, 1], [0, 1], \"k--\", label=\"chance level (AUC = 0.5)\")\n",
        "plt.axis(\"square\")\n",
        "plt.xlabel(\"False Postive Rate\")\n",
        "plt.ylabel(\"True Positive Rate\")\n",
        "plt.title(\"One-vs-Rest ROC curves:\\nclass 1 vs other 1 categories\")\n",
        "plt.legend()\n",
        "plt.show()\n"
      ],
      "metadata": {
        "colab": {
          "base_uri": "https://localhost:8080/",
          "height": 493
        },
        "id": "x0HIsMCko-od",
        "outputId": "9dfd4c25-98db-4e72-9c66-6a21acc1b4e5"
      },
      "execution_count": null,
      "outputs": [
        {
          "output_type": "display_data",
          "data": {
            "text/plain": [
              "<Figure size 640x480 with 1 Axes>"
            ],
            "image/png": "[encoded data removed]"
          },
          "metadata": {}
        }
      ]
    },
    {
      "cell_type": "code",
      "source": [
        "class_id = 1  # select class 1 (0-indexed) to plot against the rest\n",
        "RocCurveDisplay.from_predictions(\n",
        "    to_categorical(y_test_encoded)[:, class_id],\n",
        "    clf.predict_proba(x_test)[:, class_id],\n",
        "    name=f\"class {class_id} vs the rest\",\n",
        "    color=\"darkorange\",\n",
        ")\n"
      ],
      "metadata": {
        "colab": {
          "base_uri": "https://localhost:8080/",
          "height": 466
        },
        "id": "ddeCn0QXo-aK",
        "outputId": "20fc6801-5e1d-4cf1-bb89-80f15b1dae8a"
      },
      "execution_count": null,
      "outputs": [
        {
          "output_type": "execute_result",
          "data": {
            "text/plain": [
              "<sklearn.metrics._plot.roc_curve.RocCurveDisplay at 0x7f52b48f4340>"
            ]
          },
          "metadata": {},
          "execution_count": 27
        },
        {
          "output_type": "display_data",
          "data": {
            "text/plain": [
              "<Figure size 640x480 with 1 Axes>"
            ],
            "image/png": "[encoded data removed]"
          },
          "metadata": {}
        }
      ]
    },
    {
      "cell_type": "markdown",
      "source": [
        "# **Build a naive Bayes Model**"
      ],
      "metadata": {
        "id": "RkP0dc-T1Ik1"
      }
    },
    {
      "cell_type": "code",
      "source": [
        "from sklearn.naive_bayes import GaussianNB"
      ],
      "metadata": {
        "id": "defjNzCXo-H6"
      },
      "execution_count": null,
      "outputs": []
    },
    {
      "cell_type": "code",
      "source": [
        "clf = GaussianNB()"
      ],
      "metadata": {
        "id": "n0ADeOuQo9z7"
      },
      "execution_count": null,
      "outputs": []
    },
    {
      "cell_type": "code",
      "source": [
        "clf.fit(x_train, y_train)"
      ],
      "metadata": {
        "colab": {
          "base_uri": "https://localhost:8080/",
          "height": 75
        },
        "id": "efNogXX02zqf",
        "outputId": "4ad82ffd-7c40-493c-c3a0-4cae5c92548f"
      },
      "execution_count": null,
      "outputs": [
        {
          "output_type": "execute_result",
          "data": {
            "text/plain": [
              "GaussianNB()"
            ],
            "text/html": [
              "<style>#sk-container-id-3 {color: black;background-color: white;}#sk-container-id-3 pre{padding: 0;}#sk-container-id-3 div.sk-toggleable {background-color: white;}#sk-container-id-3 label.sk-toggleable__label {cursor: pointer;display: block;width: 100%;margin-bottom: 0;padding: 0.3em;box-sizing: border-box;text-align: center;}#sk-container-id-3 label.sk-toggleable__label-arrow:before {content: \"▸\";float: left;margin-right: 0.25em;color: #696969;}#sk-container-id-3 label.sk-toggleable__label-arrow:hover:before {color: black;}#sk-container-id-3 div.sk-estimator:hover label.sk-toggleable__label-arrow:before {color: black;}#sk-container-id-3 div.sk-toggleable__content {max-height: 0;max-width: 0;overflow: hidden;text-align: left;background-color: #f0f8ff;}#sk-container-id-3 div.sk-toggleable__content pre {margin: 0.2em;color: black;border-radius: 0.25em;background-color: #f0f8ff;}#sk-container-id-3 input.sk-toggleable__control:checked~div.sk-toggleable__content {max-height: 200px;max-width: 100%;overflow: auto;}#sk-container-id-3 input.sk-toggleable__control:checked~label.sk-toggleable__label-arrow:before {content: \"▾\";}#sk-container-id-3 div.sk-estimator input.sk-toggleable__control:checked~label.sk-toggleable__label {background-color: #d4ebff;}#sk-container-id-3 div.sk-label input.sk-toggleable__control:checked~label.sk-toggleable__label {background-color: #d4ebff;}#sk-container-id-3 input.sk-hidden--visually {border: 0;clip: rect(1px 1px 1px 1px);clip: rect(1px, 1px, 1px, 1px);height: 1px;margin: -1px;overflow: hidden;padding: 0;position: absolute;width: 1px;}#sk-container-id-3 div.sk-estimator {font-family: monospace;background-color: #f0f8ff;border: 1px dotted black;border-radius: 0.25em;box-sizing: border-box;margin-bottom: 0.5em;}#sk-container-id-3 div.sk-estimator:hover {background-color: #d4ebff;}#sk-container-id-3 div.sk-parallel-item::after {content: \"\";width: 100%;border-bottom: 1px solid gray;flex-grow: 1;}#sk-container-id-3 div.sk-label:hover label.sk-toggleable__label {background-color: #d4ebff;}#sk-container-id-3 div.sk-serial::before {content: \"\";position: absolute;border-left: 1px solid gray;box-sizing: border-box;top: 0;bottom: 0;left: 50%;z-index: 0;}#sk-container-id-3 div.sk-serial {display: flex;flex-direction: column;align-items: center;background-color: white;padding-right: 0.2em;padding-left: 0.2em;position: relative;}#sk-container-id-3 div.sk-item {position: relative;z-index: 1;}#sk-container-id-3 div.sk-parallel {display: flex;align-items: stretch;justify-content: center;background-color: white;position: relative;}#sk-container-id-3 div.sk-item::before, #sk-container-id-3 div.sk-parallel-item::before {content: \"\";position: absolute;border-left: 1px solid gray;box-sizing: border-box;top: 0;bottom: 0;left: 50%;z-index: -1;}#sk-container-id-3 div.sk-parallel-item {display: flex;flex-direction: column;z-index: 1;position: relative;background-color: white;}#sk-container-id-3 div.sk-parallel-item:first-child::after {align-self: flex-end;width: 50%;}#sk-container-id-3 div.sk-parallel-item:last-child::after {align-self: flex-start;width: 50%;}#sk-container-id-3 div.sk-parallel-item:only-child::after {width: 0;}#sk-container-id-3 div.sk-dashed-wrapped {border: 1px dashed gray;margin: 0 0.4em 0.5em 0.4em;box-sizing: border-box;padding-bottom: 0.4em;background-color: white;}#sk-container-id-3 div.sk-label label {font-family: monospace;font-weight: bold;display: inline-block;line-height: 1.2em;}#sk-container-id-3 div.sk-label-container {text-align: center;}#sk-container-id-3 div.sk-container {/* jupyter's `normalize.less` sets `[hidden] { display: none; }` but bootstrap.min.css set `[hidden] { display: none !important; }` so we also need the `!important` here to be able to override the default hidden behavior on the sphinx rendered scikit-learn.org. See: https://github.com/scikit-learn/scikit-learn/issues/21755 */display: inline-block !important;position: relative;}#sk-container-id-3 div.sk-text-repr-fallback {display: none;}</style><div id=\"sk-container-id-3\" class=\"sk-top-container\"><div class=\"sk-text-repr-fallback\"><pre>GaussianNB()</pre><b>In a Jupyter environment, please rerun this cell to show the HTML representation or trust the notebook. <br />On GitHub, the HTML representation is unable to render, please try loading this page with nbviewer.org.</b></div><div class=\"sk-container\" hidden><div class=\"sk-item\"><div class=\"sk-estimator sk-toggleable\"><input class=\"sk-toggleable__control sk-hidden--visually\" id=\"sk-estimator-id-3\" type=\"checkbox\" checked><label for=\"sk-estimator-id-3\" class=\"sk-toggleable__label sk-toggleable__label-arrow\">GaussianNB</label><div class=\"sk-toggleable__content\"><pre>GaussianNB()</pre></div></div></div></div></div>"
            ]
          },
          "metadata": {},
          "execution_count": 30
        }
      ]
    },
    {
      "cell_type": "markdown",
      "source": [
        "**Now we can predict output using the learned model**"
      ],
      "metadata": {
        "id": "oemWAEM61X08"
      }
    },
    {
      "cell_type": "code",
      "source": [
        "y_pred = clf.predict(x_test)"
      ],
      "metadata": {
        "id": "RJ-UNfuB1UG7"
      },
      "execution_count": null,
      "outputs": []
    },
    {
      "cell_type": "markdown",
      "source": [
        "**Now we are ready to evaluate the prediction**"
      ],
      "metadata": {
        "id": "xPT_ehmW1cpc"
      }
    },
    {
      "cell_type": "code",
      "source": [
        "import sklearn.metrics\n",
        "print(\"Accuracy:\",metrics.accuracy_score(y_test,y_pred))\n",
        "print(\"Precision:\", metrics.precision_score(y_test, y_pred, average='macro'))\n",
        "print(\"Recall:\", metrics.recall_score(y_test, y_pred, average='macro'))\n",
        "print(\"F1_score:\", metrics.f1_score(y_test, y_pred, average='macro'))\n",
        "print(\"all:\", metrics.precision_recall_fscore_support(y_test, y_pred, average='macro'))"
      ],
      "metadata": {
        "colab": {
          "base_uri": "https://localhost:8080/"
        },
        "id": "_sO2-e3N1T8y",
        "outputId": "d19d5420-485b-403e-ae8a-28ef2653f9b8"
      },
      "execution_count": null,
      "outputs": [
        {
          "output_type": "stream",
          "name": "stdout",
          "text": [
            "Accuracy: 0.841049837805957\n",
            "Precision: 0.6378645149521884\n",
            "Recall: 0.6716254575488633\n",
            "F1_score: 0.6512846929827386\n",
            "all: (0.6378645149521884, 0.6716254575488633, 0.6512846929827386, None)\n"
          ]
        }
      ]
    },
    {
      "cell_type": "markdown",
      "source": [
        "# **Neural Networks**"
      ],
      "metadata": {
        "id": "aVGx6YEwWJ7u"
      }
    },
    {
      "cell_type": "code",
      "source": [
        "from sklearn.neural_network import MLPClassifier"
      ],
      "metadata": {
        "id": "rWcT_euxWI6-"
      },
      "execution_count": null,
      "outputs": []
    },
    {
      "cell_type": "markdown",
      "source": [
        "**Next, we create the classffier and train MLP on training set**"
      ],
      "metadata": {
        "id": "WxBsRqttWam9"
      }
    },
    {
      "cell_type": "code",
      "source": [
        "clf = MLPClassifier(random_state=1, max_iter=200, solver='sgd')\n",
        "clf.fit(x_train, y_train)\n",
        "clf.predict_proba(x_test)"
      ],
      "metadata": {
        "colab": {
          "base_uri": "https://localhost:8080/"
        },
        "id": "2CQROkgUWIze",
        "outputId": "b6e8fe4f-8057-4114-8569-20fd8be12d3e"
      },
      "execution_count": null,
      "outputs": [
        {
          "output_type": "execute_result",
          "data": {
            "text/plain": [
              "array([[8.73169047e-01, 1.26830953e-01],\n",
              "       [8.73169047e-01, 1.26830953e-01],\n",
              "       [7.06940979e-01, 2.93059021e-01],\n",
              "       ...,\n",
              "       [9.68637410e-01, 3.13625897e-02],\n",
              "       [9.99871801e-01, 1.28198602e-04],\n",
              "       [8.73169047e-01, 1.26830953e-01]])"
            ]
          },
          "metadata": {},
          "execution_count": 34
        }
      ]
    },
    {
      "cell_type": "code",
      "source": [
        "y_pred = clf.predict(x_test)"
      ],
      "metadata": {
        "id": "wCwPQlk6WIY_"
      },
      "execution_count": null,
      "outputs": []
    },
    {
      "cell_type": "code",
      "source": [
        "import sklearn.metrics\n",
        "print(\"Accuracy:\",metrics.accuracy_score(y_test,y_pred))\n",
        "print(\"Precision:\", metrics.precision_score(y_test, y_pred, average='macro'))\n",
        "print(\"Recall:\", metrics.recall_score(y_test, y_pred, average='macro'))\n",
        "print(\"F1_score:\", metrics.f1_score(y_test, y_pred, average='macro'))\n",
        "print(\"all:\", metrics.precision_recall_fscore_support(y_test, y_pred, average='macro'))"
      ],
      "metadata": {
        "colab": {
          "base_uri": "https://localhost:8080/"
        },
        "id": "uInvQGOjWIPY",
        "outputId": "41f6b4b9-7505-437d-f204-1b2800d2bebc"
      },
      "execution_count": null,
      "outputs": [
        {
          "output_type": "stream",
          "name": "stdout",
          "text": [
            "Accuracy: 0.8871276909466234\n",
            "Precision: 0.7324362921061113\n",
            "Recall: 0.5224502651678176\n",
            "F1_score: 0.5156104685506941\n",
            "all: (0.7324362921061113, 0.5224502651678176, 0.5156104685506941, None)\n"
          ]
        }
      ]
    },
    {
      "cell_type": "markdown",
      "source": [
        "**Let's practice the same in a deep learning library TensorFlow. We don't want run our model on GPU in this exercise**"
      ],
      "metadata": {
        "id": "VccssJDrWuu9"
      }
    },
    {
      "cell_type": "code",
      "source": [
        "import tensorflow as tf\n",
        "print(tf.__version__) #check thye version of tensorFlow you are using\n",
        "print(tf.config.list_physical_devices('GPU')) #optional"
      ],
      "metadata": {
        "colab": {
          "base_uri": "https://localhost:8080/"
        },
        "id": "y95-oQ30WIFw",
        "outputId": "1f118398-7a32-49a5-d7d3-faeeab960601"
      },
      "execution_count": null,
      "outputs": [
        {
          "output_type": "stream",
          "name": "stdout",
          "text": [
            "2.12.0\n",
            "[]\n"
          ]
        }
      ]
    },
    {
      "cell_type": "markdown",
      "source": [
        "**Next, we need to build our neural network model using Keras API in tensorFlow**"
      ],
      "metadata": {
        "id": "VI9ic19XW7dD"
      }
    },
    {
      "cell_type": "code",
      "source": [
        "from sklearn.preprocessing import LabelEncoder\n",
        "\n",
        "le = LabelEncoder()\n",
        "y_train = le.fit_transform(y_train)\n",
        "y_test = le.transform(y_test)\n",
        "\n",
        "label_binarizer = LabelBinarizer().fit(y_train)\n",
        "y_onehot_test = label_binarizer.transform(y_test)\n",
        "y_onehot_test.shape #(n_samples, n_classes)"
      ],
      "metadata": {
        "colab": {
          "base_uri": "https://localhost:8080/"
        },
        "id": "QvilFYvBYYU4",
        "outputId": "ae9de18f-90f2-4759-dfe2-235e7ec3d349"
      },
      "execution_count": null,
      "outputs": [
        {
          "output_type": "execute_result",
          "data": {
            "text/plain": [
              "(13564, 1)"
            ]
          },
          "metadata": {},
          "execution_count": 38
        }
      ]
    },
    {
      "cell_type": "markdown",
      "source": [
        "# **conver again to y_train to have shape (None, 3), which corresponds to 3 classes otherwise the error will on model.fit(x_train, y_train, epochs=5, batch_size=32)**"
      ],
      "metadata": {
        "id": "uTGK2Ry2abVm"
      }
    },
    {
      "cell_type": "code",
      "source": [
        "y_train = tf.keras.utils.to_categorical(y_train, num_classes=2)"
      ],
      "metadata": {
        "id": "Cs5eigHQZEDK"
      },
      "execution_count": null,
      "outputs": []
    },
    {
      "cell_type": "code",
      "source": [
        "from keras.layers.attention.multi_head_attention import activation\n",
        "model = tf.keras.Sequential()\n",
        "model.add(tf.keras.layers.InputLayer(input_shape=(16)))\n",
        "model.add(tf.keras.layers.Dense(units=2,activation=tf.nn.softmax))"
      ],
      "metadata": {
        "id": "tfk6RQcv1Tjs"
      },
      "execution_count": null,
      "outputs": []
    },
    {
      "cell_type": "code",
      "source": [
        "print(x_train.shape, y_train.shape)"
      ],
      "metadata": {
        "colab": {
          "base_uri": "https://localhost:8080/"
        },
        "id": "dV1h1AxmHbTx",
        "outputId": "0c3328f6-181a-4332-fc26-606322d1fff4"
      },
      "execution_count": null,
      "outputs": [
        {
          "output_type": "stream",
          "name": "stdout",
          "text": [
            "(31647, 16) (31647, 2)\n"
          ]
        }
      ]
    },
    {
      "cell_type": "code",
      "source": [
        "print(x_train.dtypes)\n",
        "print(y_train.dtype)\n"
      ],
      "metadata": {
        "colab": {
          "base_uri": "https://localhost:8080/"
        },
        "id": "YmnF0yfqJTvO",
        "outputId": "41fe941d-8c9b-43b2-f91b-fd9e79fe011a"
      },
      "execution_count": null,
      "outputs": [
        {
          "output_type": "stream",
          "name": "stdout",
          "text": [
            "age          int64\n",
            "job          int64\n",
            "marital      int64\n",
            "education    int64\n",
            "default      int64\n",
            "balance      int64\n",
            "housing      int64\n",
            "loan         int64\n",
            "contact      int64\n",
            "day          int64\n",
            "month        int64\n",
            "duration     int64\n",
            "campaign     int64\n",
            "pdays        int64\n",
            "previous     int64\n",
            "poutcome     int64\n",
            "dtype: object\n",
            "float32\n"
          ]
        }
      ]
    },
    {
      "cell_type": "code",
      "source": [
        "label_types = np.unique(x_train)\n",
        "print(label_types)\n",
        "label_types = np.unique(y_train)\n",
        "print(label_types)"
      ],
      "metadata": {
        "colab": {
          "base_uri": "https://localhost:8080/"
        },
        "id": "BU0sGheFJq9b",
        "outputId": "cc7545c6-63e0-4963-9802-9f8450ac10a9"
      },
      "execution_count": null,
      "outputs": [
        {
          "output_type": "stream",
          "name": "stdout",
          "text": [
            "[ -6847  -4057  -3372 ...  81204  98417 102127]\n",
            "[0. 1.]\n"
          ]
        }
      ]
    },
    {
      "cell_type": "markdown",
      "source": [
        "**let's train the model using a loss function (same log loss or cross entropy we used in scikit learn) sparse_categorical_crossentropy automatically does the one-hot encoding on the output layer as we talked about in the class.**"
      ],
      "metadata": {
        "id": "Jqagz2QsBFWF"
      }
    },
    {
      "cell_type": "code",
      "source": [
        "model.compile(optimizer=tf.keras.optimizers.Adam(0.001), loss='categorical_crossentropy',metrics=['accuracy'])\n",
        "\n",
        "\n",
        "model.fit(x_train, y_train, epochs=100, batch_size=32)"
      ],
      "metadata": {
        "id": "PoPdgNG4XA0M",
        "colab": {
          "base_uri": "https://localhost:8080/"
        },
        "outputId": "e53b58ea-931b-48d5-bc52-e0e8552395a6"
      },
      "execution_count": null,
      "outputs": [
        {
          "output_type": "stream",
          "name": "stdout",
          "text": [
            "Epoch 1/100\n",
            "989/989 [==============================] - 3s 2ms/step - loss: 35.9012 - accuracy: 0.8090\n",
            "Epoch 2/100\n",
            "989/989 [==============================] - 2s 2ms/step - loss: 0.4940 - accuracy: 0.8651\n",
            "Epoch 3/100\n",
            "989/989 [==============================] - 2s 2ms/step - loss: 0.4560 - accuracy: 0.8726\n",
            "Epoch 4/100\n",
            "989/989 [==============================] - 2s 2ms/step - loss: 0.4761 - accuracy: 0.8706\n",
            "Epoch 5/100\n",
            "989/989 [==============================] - 2s 2ms/step - loss: 0.4591 - accuracy: 0.8730\n",
            "Epoch 6/100\n",
            "989/989 [==============================] - 2s 2ms/step - loss: 0.4395 - accuracy: 0.8739\n",
            "Epoch 7/100\n",
            "989/989 [==============================] - 2s 2ms/step - loss: 0.4411 - accuracy: 0.8727\n",
            "Epoch 8/100\n",
            "989/989 [==============================] - 2s 2ms/step - loss: 0.4170 - accuracy: 0.8754\n",
            "Epoch 9/100\n",
            "989/989 [==============================] - 2s 2ms/step - loss: 0.5162 - accuracy: 0.8728\n",
            "Epoch 10/100\n",
            "989/989 [==============================] - 2s 2ms/step - loss: 0.5367 - accuracy: 0.8689\n",
            "Epoch 11/100\n",
            "989/989 [==============================] - 2s 2ms/step - loss: 0.4797 - accuracy: 0.8734\n",
            "Epoch 12/100\n",
            "989/989 [==============================] - 2s 2ms/step - loss: 0.5201 - accuracy: 0.8702\n",
            "Epoch 13/100\n",
            "989/989 [==============================] - 2s 2ms/step - loss: 0.4379 - accuracy: 0.8736\n",
            "Epoch 14/100\n",
            "989/989 [==============================] - 2s 2ms/step - loss: 0.4487 - accuracy: 0.8728\n",
            "Epoch 15/100\n",
            "989/989 [==============================] - 2s 2ms/step - loss: 0.4414 - accuracy: 0.8757\n",
            "Epoch 16/100\n",
            "989/989 [==============================] - 2s 2ms/step - loss: 0.4308 - accuracy: 0.8741\n",
            "Epoch 17/100\n",
            "989/989 [==============================] - 2s 2ms/step - loss: 0.5040 - accuracy: 0.8710\n",
            "Epoch 18/100\n",
            "989/989 [==============================] - 2s 2ms/step - loss: 0.4063 - accuracy: 0.8770\n",
            "Epoch 19/100\n",
            "989/989 [==============================] - 2s 2ms/step - loss: 0.5176 - accuracy: 0.8707\n",
            "Epoch 20/100\n",
            "989/989 [==============================] - 2s 2ms/step - loss: 0.4322 - accuracy: 0.8744\n",
            "Epoch 21/100\n",
            "989/989 [==============================] - 2s 2ms/step - loss: 0.4991 - accuracy: 0.8713\n",
            "Epoch 22/100\n",
            "989/989 [==============================] - 2s 2ms/step - loss: 0.4982 - accuracy: 0.8710\n",
            "Epoch 23/100\n",
            "989/989 [==============================] - 2s 2ms/step - loss: 0.4392 - accuracy: 0.8728\n",
            "Epoch 24/100\n",
            "989/989 [==============================] - 2s 2ms/step - loss: 0.4925 - accuracy: 0.8719\n",
            "Epoch 25/100\n",
            "989/989 [==============================] - 2s 2ms/step - loss: 0.4830 - accuracy: 0.8722\n",
            "Epoch 26/100\n",
            "989/989 [==============================] - 2s 2ms/step - loss: 0.4412 - accuracy: 0.8743\n",
            "Epoch 27/100\n",
            "989/989 [==============================] - 2s 2ms/step - loss: 0.4421 - accuracy: 0.8726\n",
            "Epoch 28/100\n",
            "989/989 [==============================] - 2s 2ms/step - loss: 0.4755 - accuracy: 0.8733\n",
            "Epoch 29/100\n",
            "989/989 [==============================] - 2s 2ms/step - loss: 0.5524 - accuracy: 0.8688\n",
            "Epoch 30/100\n",
            "989/989 [==============================] - 2s 2ms/step - loss: 0.4533 - accuracy: 0.8723\n",
            "Epoch 31/100\n",
            "989/989 [==============================] - 2s 2ms/step - loss: 0.4596 - accuracy: 0.8748\n",
            "Epoch 32/100\n",
            "989/989 [==============================] - 2s 2ms/step - loss: 0.5022 - accuracy: 0.8735\n",
            "Epoch 33/100\n",
            "989/989 [==============================] - 2s 2ms/step - loss: 0.4679 - accuracy: 0.8731\n",
            "Epoch 34/100\n",
            "989/989 [==============================] - 2s 2ms/step - loss: 0.5161 - accuracy: 0.8704\n",
            "Epoch 35/100\n",
            "989/989 [==============================] - 2s 2ms/step - loss: 0.4269 - accuracy: 0.8754\n",
            "Epoch 36/100\n",
            "989/989 [==============================] - 2s 2ms/step - loss: 0.4668 - accuracy: 0.8711\n",
            "Epoch 37/100\n",
            "989/989 [==============================] - 2s 2ms/step - loss: 0.4682 - accuracy: 0.8738\n",
            "Epoch 38/100\n",
            "989/989 [==============================] - 1s 1ms/step - loss: 0.4583 - accuracy: 0.8717\n",
            "Epoch 39/100\n",
            "989/989 [==============================] - 2s 2ms/step - loss: 0.4707 - accuracy: 0.8740\n",
            "Epoch 40/100\n",
            "989/989 [==============================] - 2s 2ms/step - loss: 0.4913 - accuracy: 0.8691\n",
            "Epoch 41/100\n",
            "989/989 [==============================] - 2s 2ms/step - loss: 0.4995 - accuracy: 0.8710\n",
            "Epoch 42/100\n",
            "989/989 [==============================] - 2s 2ms/step - loss: 0.4863 - accuracy: 0.8716\n",
            "Epoch 43/100\n",
            "989/989 [==============================] - 2s 2ms/step - loss: 0.5063 - accuracy: 0.8713\n",
            "Epoch 44/100\n",
            "989/989 [==============================] - 2s 2ms/step - loss: 0.5241 - accuracy: 0.8720\n",
            "Epoch 45/100\n",
            "989/989 [==============================] - 2s 2ms/step - loss: 0.4244 - accuracy: 0.8764\n",
            "Epoch 46/100\n",
            "989/989 [==============================] - 2s 2ms/step - loss: 0.4577 - accuracy: 0.8742\n",
            "Epoch 47/100\n",
            "989/989 [==============================] - 2s 2ms/step - loss: 0.5286 - accuracy: 0.8706\n",
            "Epoch 48/100\n",
            "989/989 [==============================] - 2s 2ms/step - loss: 0.4485 - accuracy: 0.8733\n",
            "Epoch 49/100\n",
            "989/989 [==============================] - 2s 2ms/step - loss: 0.4707 - accuracy: 0.8734\n",
            "Epoch 50/100\n",
            "989/989 [==============================] - 2s 2ms/step - loss: 0.4750 - accuracy: 0.8725\n",
            "Epoch 51/100\n",
            "989/989 [==============================] - 2s 2ms/step - loss: 0.4500 - accuracy: 0.8748\n",
            "Epoch 52/100\n",
            "989/989 [==============================] - 2s 2ms/step - loss: 0.4508 - accuracy: 0.8753\n",
            "Epoch 53/100\n",
            "989/989 [==============================] - 2s 2ms/step - loss: 0.4686 - accuracy: 0.8725\n",
            "Epoch 54/100\n",
            "989/989 [==============================] - 2s 2ms/step - loss: 0.4246 - accuracy: 0.8751\n",
            "Epoch 55/100\n",
            "989/989 [==============================] - 2s 2ms/step - loss: 0.4990 - accuracy: 0.8719\n",
            "Epoch 56/100\n",
            "989/989 [==============================] - 2s 2ms/step - loss: 0.4721 - accuracy: 0.8740\n",
            "Epoch 57/100\n",
            "989/989 [==============================] - 2s 2ms/step - loss: 0.5250 - accuracy: 0.8705\n",
            "Epoch 58/100\n",
            "989/989 [==============================] - 2s 2ms/step - loss: 0.4098 - accuracy: 0.8766\n",
            "Epoch 59/100\n",
            "989/989 [==============================] - 2s 2ms/step - loss: 0.4301 - accuracy: 0.8737\n",
            "Epoch 60/100\n",
            "989/989 [==============================] - 2s 2ms/step - loss: 0.5314 - accuracy: 0.8700\n",
            "Epoch 61/100\n",
            "989/989 [==============================] - 2s 2ms/step - loss: 0.4066 - accuracy: 0.8757\n",
            "Epoch 62/100\n",
            "989/989 [==============================] - 2s 2ms/step - loss: 0.5171 - accuracy: 0.8721\n",
            "Epoch 63/100\n",
            "989/989 [==============================] - 2s 2ms/step - loss: 0.4905 - accuracy: 0.8735\n",
            "Epoch 64/100\n",
            "989/989 [==============================] - 2s 2ms/step - loss: 0.4815 - accuracy: 0.8718\n",
            "Epoch 65/100\n",
            "989/989 [==============================] - 2s 2ms/step - loss: 0.5077 - accuracy: 0.8695\n",
            "Epoch 66/100\n",
            "989/989 [==============================] - 2s 2ms/step - loss: 0.4377 - accuracy: 0.8756\n",
            "Epoch 67/100\n",
            "989/989 [==============================] - 2s 2ms/step - loss: 0.4439 - accuracy: 0.8758\n",
            "Epoch 68/100\n",
            "989/989 [==============================] - 2s 2ms/step - loss: 0.5014 - accuracy: 0.8730\n",
            "Epoch 69/100\n",
            "989/989 [==============================] - 2s 2ms/step - loss: 0.5236 - accuracy: 0.8698\n",
            "Epoch 70/100\n",
            "989/989 [==============================] - 1s 1ms/step - loss: 0.4287 - accuracy: 0.8742\n",
            "Epoch 71/100\n",
            "989/989 [==============================] - 2s 2ms/step - loss: 0.4833 - accuracy: 0.8741\n",
            "Epoch 72/100\n",
            "989/989 [==============================] - 2s 2ms/step - loss: 0.4665 - accuracy: 0.8746\n",
            "Epoch 73/100\n",
            "989/989 [==============================] - 2s 2ms/step - loss: 0.4529 - accuracy: 0.8718\n",
            "Epoch 74/100\n",
            "989/989 [==============================] - 2s 2ms/step - loss: 0.5012 - accuracy: 0.8703\n",
            "Epoch 75/100\n",
            "989/989 [==============================] - 2s 2ms/step - loss: 0.4660 - accuracy: 0.8726\n",
            "Epoch 76/100\n",
            "989/989 [==============================] - 2s 2ms/step - loss: 0.4506 - accuracy: 0.8733\n",
            "Epoch 77/100\n",
            "989/989 [==============================] - 2s 2ms/step - loss: 0.4936 - accuracy: 0.8729\n",
            "Epoch 78/100\n",
            "989/989 [==============================] - 2s 2ms/step - loss: 0.5132 - accuracy: 0.8705\n",
            "Epoch 79/100\n",
            "989/989 [==============================] - 2s 2ms/step - loss: 0.4508 - accuracy: 0.8747\n",
            "Epoch 80/100\n",
            "989/989 [==============================] - 1s 1ms/step - loss: 0.4579 - accuracy: 0.8746\n",
            "Epoch 81/100\n",
            "989/989 [==============================] - 2s 2ms/step - loss: 0.4617 - accuracy: 0.8748\n",
            "Epoch 82/100\n",
            "989/989 [==============================] - 2s 2ms/step - loss: 0.5018 - accuracy: 0.8726\n",
            "Epoch 83/100\n",
            "989/989 [==============================] - 2s 2ms/step - loss: 0.4500 - accuracy: 0.8751\n",
            "Epoch 84/100\n",
            "989/989 [==============================] - 2s 2ms/step - loss: 0.4337 - accuracy: 0.8746\n",
            "Epoch 85/100\n",
            "989/989 [==============================] - 3s 3ms/step - loss: 0.4629 - accuracy: 0.8739\n",
            "Epoch 86/100\n",
            "989/989 [==============================] - 2s 2ms/step - loss: 0.4324 - accuracy: 0.8735\n",
            "Epoch 87/100\n",
            "989/989 [==============================] - 2s 2ms/step - loss: 0.4709 - accuracy: 0.8733\n",
            "Epoch 88/100\n",
            "989/989 [==============================] - 2s 2ms/step - loss: 0.4482 - accuracy: 0.8754\n",
            "Epoch 89/100\n",
            "989/989 [==============================] - 2s 2ms/step - loss: 0.4854 - accuracy: 0.8745\n",
            "Epoch 90/100\n",
            "989/989 [==============================] - 2s 2ms/step - loss: 0.4442 - accuracy: 0.8733\n",
            "Epoch 91/100\n",
            "989/989 [==============================] - 2s 2ms/step - loss: 0.4919 - accuracy: 0.8738\n",
            "Epoch 92/100\n",
            "989/989 [==============================] - 2s 2ms/step - loss: 0.4618 - accuracy: 0.8755\n",
            "Epoch 93/100\n",
            "989/989 [==============================] - 2s 2ms/step - loss: 0.4826 - accuracy: 0.8729\n",
            "Epoch 94/100\n",
            "989/989 [==============================] - 2s 2ms/step - loss: 0.4800 - accuracy: 0.8726\n",
            "Epoch 95/100\n",
            "989/989 [==============================] - 1s 1ms/step - loss: 0.4925 - accuracy: 0.8717\n",
            "Epoch 96/100\n",
            "989/989 [==============================] - 1s 1ms/step - loss: 0.4905 - accuracy: 0.8730\n",
            "Epoch 97/100\n",
            "989/989 [==============================] - 2s 2ms/step - loss: 0.5100 - accuracy: 0.8691\n",
            "Epoch 98/100\n",
            "989/989 [==============================] - 2s 2ms/step - loss: 0.4707 - accuracy: 0.8747\n",
            "Epoch 99/100\n",
            "989/989 [==============================] - 2s 2ms/step - loss: 0.4352 - accuracy: 0.8752\n",
            "Epoch 100/100\n",
            "989/989 [==============================] - 2s 2ms/step - loss: 0.5238 - accuracy: 0.8691\n"
          ]
        },
        {
          "output_type": "execute_result",
          "data": {
            "text/plain": [
              "<keras.callbacks.History at 0x7f5256069d50>"
            ]
          },
          "metadata": {},
          "execution_count": 44
        }
      ]
    },
    {
      "cell_type": "code",
      "source": [
        "predictions= model.predict(x_test)\n",
        "y_pred = np.argmax(predictions,axis=-1)\n",
        "print('test accuracy', np.sum(y_pred==y_test)/len(y_test))"
      ],
      "metadata": {
        "id": "UcMI79bWXArj",
        "colab": {
          "base_uri": "https://localhost:8080/"
        },
        "outputId": "a2043036-950b-4cf7-a364-db84d7c2bcca"
      },
      "execution_count": null,
      "outputs": [
        {
          "output_type": "stream",
          "name": "stdout",
          "text": [
            "424/424 [==============================] - 1s 2ms/step\n",
            "test accuracy 0.8902978472427012\n"
          ]
        }
      ]
    },
    {
      "cell_type": "code",
      "source": [
        "predictions\n",
        "model = tf.keras.Sequential()\n",
        "model.add(tf.keras.layers.InputLayer(input_shape=(16)))\n",
        "model.add(tf.keras.layers.Dense(units=100, activation=tf.nn.relu))\n",
        "model.add(tf.keras.layers.Dense(units=2,activation=tf.nn.softmax))"
      ],
      "metadata": {
        "id": "JyjMlxeyZ52z"
      },
      "execution_count": null,
      "outputs": []
    },
    {
      "cell_type": "code",
      "source": [
        "model.compile(optimizer=tf.keras.optimizers.Adam(0.001), loss='categorical_crossentropy', metrics=['accuracy'])\n",
        "model.fit(x_train, y_train, epochs=100, batch_size=32)"
      ],
      "metadata": {
        "colab": {
          "base_uri": "https://localhost:8080/"
        },
        "id": "-TIXIdckZ9U4",
        "outputId": "f8953588-8aa5-4359-f069-585aab042054"
      },
      "execution_count": null,
      "outputs": [
        {
          "output_type": "stream",
          "name": "stdout",
          "text": [
            "Epoch 1/100\n",
            "989/989 [==============================] - 3s 2ms/step - loss: 3.0771 - accuracy: 0.8323\n",
            "Epoch 2/100\n",
            "989/989 [==============================] - 2s 2ms/step - loss: 2.2099 - accuracy: 0.8459\n",
            "Epoch 3/100\n",
            "989/989 [==============================] - 2s 2ms/step - loss: 2.3138 - accuracy: 0.8457\n",
            "Epoch 4/100\n",
            "989/989 [==============================] - 2s 2ms/step - loss: 1.8170 - accuracy: 0.8506\n",
            "Epoch 5/100\n",
            "989/989 [==============================] - 2s 2ms/step - loss: 1.6128 - accuracy: 0.8518\n",
            "Epoch 6/100\n",
            "989/989 [==============================] - 2s 2ms/step - loss: 1.7751 - accuracy: 0.8524\n",
            "Epoch 7/100\n",
            "989/989 [==============================] - 2s 3ms/step - loss: 1.5928 - accuracy: 0.8534\n",
            "Epoch 8/100\n",
            "989/989 [==============================] - 2s 2ms/step - loss: 1.6683 - accuracy: 0.8544\n",
            "Epoch 9/100\n",
            "989/989 [==============================] - 2s 2ms/step - loss: 1.3822 - accuracy: 0.8581\n",
            "Epoch 10/100\n",
            "989/989 [==============================] - 2s 2ms/step - loss: 1.5160 - accuracy: 0.8554\n",
            "Epoch 11/100\n",
            "989/989 [==============================] - 2s 2ms/step - loss: 1.4175 - accuracy: 0.8561\n",
            "Epoch 12/100\n",
            "989/989 [==============================] - 2s 2ms/step - loss: 1.1074 - accuracy: 0.8600\n",
            "Epoch 13/100\n",
            "989/989 [==============================] - 2s 2ms/step - loss: 1.2927 - accuracy: 0.8574\n",
            "Epoch 14/100\n",
            "989/989 [==============================] - 2s 2ms/step - loss: 0.9882 - accuracy: 0.8643\n",
            "Epoch 15/100\n",
            "989/989 [==============================] - 3s 3ms/step - loss: 0.9671 - accuracy: 0.8636\n",
            "Epoch 16/100\n",
            "989/989 [==============================] - 2s 2ms/step - loss: 1.0105 - accuracy: 0.8642\n",
            "Epoch 17/100\n",
            "989/989 [==============================] - 2s 2ms/step - loss: 1.0136 - accuracy: 0.8646\n",
            "Epoch 18/100\n",
            "989/989 [==============================] - 2s 2ms/step - loss: 1.2823 - accuracy: 0.8625\n",
            "Epoch 19/100\n",
            "989/989 [==============================] - 2s 2ms/step - loss: 0.8613 - accuracy: 0.8673\n",
            "Epoch 20/100\n",
            "989/989 [==============================] - 2s 2ms/step - loss: 0.8545 - accuracy: 0.8679\n",
            "Epoch 21/100\n",
            "989/989 [==============================] - 2s 2ms/step - loss: 0.8238 - accuracy: 0.8683\n",
            "Epoch 22/100\n",
            "989/989 [==============================] - 2s 2ms/step - loss: 0.6922 - accuracy: 0.8693\n",
            "Epoch 23/100\n",
            "989/989 [==============================] - 3s 3ms/step - loss: 0.6233 - accuracy: 0.8744\n",
            "Epoch 24/100\n",
            "989/989 [==============================] - 3s 3ms/step - loss: 0.6352 - accuracy: 0.8712\n",
            "Epoch 25/100\n",
            "989/989 [==============================] - 2s 2ms/step - loss: 0.5781 - accuracy: 0.8757\n",
            "Epoch 26/100\n",
            "989/989 [==============================] - 2s 2ms/step - loss: 0.6287 - accuracy: 0.8731\n",
            "Epoch 27/100\n",
            "989/989 [==============================] - 2s 2ms/step - loss: 0.5501 - accuracy: 0.8746\n",
            "Epoch 28/100\n",
            "989/989 [==============================] - 3s 3ms/step - loss: 0.4419 - accuracy: 0.8806\n",
            "Epoch 29/100\n",
            "989/989 [==============================] - 4s 5ms/step - loss: 0.5618 - accuracy: 0.8745\n",
            "Epoch 30/100\n",
            "989/989 [==============================] - 3s 3ms/step - loss: 0.4887 - accuracy: 0.8796\n",
            "Epoch 31/100\n",
            "989/989 [==============================] - 3s 3ms/step - loss: 0.4396 - accuracy: 0.8804\n",
            "Epoch 32/100\n",
            "989/989 [==============================] - 2s 2ms/step - loss: 0.4582 - accuracy: 0.8809\n",
            "Epoch 33/100\n",
            "989/989 [==============================] - 2s 2ms/step - loss: 0.4102 - accuracy: 0.8793\n",
            "Epoch 34/100\n",
            "989/989 [==============================] - 2s 2ms/step - loss: 0.3908 - accuracy: 0.8831\n",
            "Epoch 35/100\n",
            "989/989 [==============================] - 2s 2ms/step - loss: 0.3851 - accuracy: 0.8833\n",
            "Epoch 36/100\n",
            "989/989 [==============================] - 2s 2ms/step - loss: 0.3796 - accuracy: 0.8824\n",
            "Epoch 37/100\n",
            "989/989 [==============================] - 3s 3ms/step - loss: 0.3787 - accuracy: 0.8831\n",
            "Epoch 38/100\n",
            "989/989 [==============================] - 2s 2ms/step - loss: 0.3411 - accuracy: 0.8861\n",
            "Epoch 39/100\n",
            "989/989 [==============================] - 2s 2ms/step - loss: 0.3746 - accuracy: 0.8846\n",
            "Epoch 40/100\n",
            "989/989 [==============================] - 2s 2ms/step - loss: 0.3493 - accuracy: 0.8855\n",
            "Epoch 41/100\n",
            "989/989 [==============================] - 2s 2ms/step - loss: 0.3210 - accuracy: 0.8869\n",
            "Epoch 42/100\n",
            "989/989 [==============================] - 2s 2ms/step - loss: 0.3191 - accuracy: 0.8874\n",
            "Epoch 43/100\n",
            "989/989 [==============================] - 2s 2ms/step - loss: 0.3051 - accuracy: 0.8882\n",
            "Epoch 44/100\n",
            "989/989 [==============================] - 2s 2ms/step - loss: 0.3044 - accuracy: 0.8884\n",
            "Epoch 45/100\n",
            "989/989 [==============================] - 2s 2ms/step - loss: 0.2820 - accuracy: 0.8920\n",
            "Epoch 46/100\n",
            "989/989 [==============================] - 2s 2ms/step - loss: 0.2727 - accuracy: 0.8911\n",
            "Epoch 47/100\n",
            "989/989 [==============================] - 2s 2ms/step - loss: 0.2717 - accuracy: 0.8912\n",
            "Epoch 48/100\n",
            "989/989 [==============================] - 2s 2ms/step - loss: 0.2646 - accuracy: 0.8921\n",
            "Epoch 49/100\n",
            "989/989 [==============================] - 2s 2ms/step - loss: 0.2630 - accuracy: 0.8939\n",
            "Epoch 50/100\n",
            "989/989 [==============================] - 2s 2ms/step - loss: 0.2600 - accuracy: 0.8930\n",
            "Epoch 51/100\n",
            "989/989 [==============================] - 2s 2ms/step - loss: 0.2554 - accuracy: 0.8947\n",
            "Epoch 52/100\n",
            "989/989 [==============================] - 3s 3ms/step - loss: 0.2580 - accuracy: 0.8927\n",
            "Epoch 53/100\n",
            "989/989 [==============================] - 3s 3ms/step - loss: 0.2552 - accuracy: 0.8936\n",
            "Epoch 54/100\n",
            "989/989 [==============================] - 2s 2ms/step - loss: 0.2566 - accuracy: 0.8941\n",
            "Epoch 55/100\n",
            "989/989 [==============================] - 2s 2ms/step - loss: 0.2553 - accuracy: 0.8941\n",
            "Epoch 56/100\n",
            "989/989 [==============================] - 2s 2ms/step - loss: 0.2552 - accuracy: 0.8934\n",
            "Epoch 57/100\n",
            "989/989 [==============================] - 2s 2ms/step - loss: 0.2556 - accuracy: 0.8940\n",
            "Epoch 58/100\n",
            "989/989 [==============================] - 2s 2ms/step - loss: 0.2543 - accuracy: 0.8941\n",
            "Epoch 59/100\n",
            "989/989 [==============================] - 2s 2ms/step - loss: 0.2585 - accuracy: 0.8938\n",
            "Epoch 60/100\n",
            "989/989 [==============================] - 2s 2ms/step - loss: 0.2583 - accuracy: 0.8942\n",
            "Epoch 61/100\n",
            "989/989 [==============================] - 2s 2ms/step - loss: 0.2567 - accuracy: 0.8914\n",
            "Epoch 62/100\n",
            "989/989 [==============================] - 2s 2ms/step - loss: 0.2536 - accuracy: 0.8944\n",
            "Epoch 63/100\n",
            "989/989 [==============================] - 2s 2ms/step - loss: 0.2543 - accuracy: 0.8941\n",
            "Epoch 64/100\n",
            "989/989 [==============================] - 2s 2ms/step - loss: 0.2570 - accuracy: 0.8916\n",
            "Epoch 65/100\n",
            "989/989 [==============================] - 2s 2ms/step - loss: 0.2526 - accuracy: 0.8948\n",
            "Epoch 66/100\n",
            "989/989 [==============================] - 2s 2ms/step - loss: 0.2510 - accuracy: 0.8945\n",
            "Epoch 67/100\n",
            "989/989 [==============================] - 2s 2ms/step - loss: 0.2531 - accuracy: 0.8925\n",
            "Epoch 68/100\n",
            "989/989 [==============================] - 2s 2ms/step - loss: 0.2522 - accuracy: 0.8965\n",
            "Epoch 69/100\n",
            "989/989 [==============================] - 2s 2ms/step - loss: 0.2504 - accuracy: 0.8965\n",
            "Epoch 70/100\n",
            "989/989 [==============================] - 2s 2ms/step - loss: 0.2524 - accuracy: 0.8931\n",
            "Epoch 71/100\n",
            "989/989 [==============================] - 2s 2ms/step - loss: 0.2502 - accuracy: 0.8950\n",
            "Epoch 72/100\n",
            "989/989 [==============================] - 2s 2ms/step - loss: 0.2502 - accuracy: 0.8961\n",
            "Epoch 73/100\n",
            "989/989 [==============================] - 2s 2ms/step - loss: 0.2528 - accuracy: 0.8942\n",
            "Epoch 74/100\n",
            "989/989 [==============================] - 2s 2ms/step - loss: 0.2541 - accuracy: 0.8935\n",
            "Epoch 75/100\n",
            "989/989 [==============================] - 3s 3ms/step - loss: 0.2522 - accuracy: 0.8921\n",
            "Epoch 76/100\n",
            "989/989 [==============================] - 2s 3ms/step - loss: 0.2497 - accuracy: 0.8950\n",
            "Epoch 77/100\n",
            "989/989 [==============================] - 2s 2ms/step - loss: 0.2510 - accuracy: 0.8951\n",
            "Epoch 78/100\n",
            "989/989 [==============================] - 2s 2ms/step - loss: 0.2480 - accuracy: 0.8958\n",
            "Epoch 79/100\n",
            "989/989 [==============================] - 2s 2ms/step - loss: 0.2520 - accuracy: 0.8939\n",
            "Epoch 80/100\n",
            "989/989 [==============================] - 2s 2ms/step - loss: 0.2512 - accuracy: 0.8942\n",
            "Epoch 81/100\n",
            "989/989 [==============================] - 2s 2ms/step - loss: 0.2513 - accuracy: 0.8937\n",
            "Epoch 82/100\n",
            "989/989 [==============================] - 2s 2ms/step - loss: 0.2508 - accuracy: 0.8943\n",
            "Epoch 83/100\n",
            "989/989 [==============================] - 3s 3ms/step - loss: 0.2510 - accuracy: 0.8938\n",
            "Epoch 84/100\n",
            "989/989 [==============================] - 2s 2ms/step - loss: 0.2519 - accuracy: 0.8927\n",
            "Epoch 85/100\n",
            "989/989 [==============================] - 2s 2ms/step - loss: 0.2521 - accuracy: 0.8947\n",
            "Epoch 86/100\n",
            "989/989 [==============================] - 2s 2ms/step - loss: 0.2495 - accuracy: 0.8944\n",
            "Epoch 87/100\n",
            "989/989 [==============================] - 2s 2ms/step - loss: 0.2478 - accuracy: 0.8952\n",
            "Epoch 88/100\n",
            "989/989 [==============================] - 2s 2ms/step - loss: 0.2503 - accuracy: 0.8940\n",
            "Epoch 89/100\n",
            "989/989 [==============================] - 2s 2ms/step - loss: 0.2511 - accuracy: 0.8949\n",
            "Epoch 90/100\n",
            "989/989 [==============================] - 2s 2ms/step - loss: 0.2522 - accuracy: 0.8936\n",
            "Epoch 91/100\n",
            "989/989 [==============================] - 2s 3ms/step - loss: 0.2495 - accuracy: 0.8953\n",
            "Epoch 92/100\n",
            "989/989 [==============================] - 2s 2ms/step - loss: 0.2504 - accuracy: 0.8926\n",
            "Epoch 93/100\n",
            "989/989 [==============================] - 2s 2ms/step - loss: 0.2496 - accuracy: 0.8941\n",
            "Epoch 94/100\n",
            "989/989 [==============================] - 2s 2ms/step - loss: 0.2520 - accuracy: 0.8944\n",
            "Epoch 95/100\n",
            "989/989 [==============================] - 2s 2ms/step - loss: 0.2493 - accuracy: 0.8960\n",
            "Epoch 96/100\n",
            "989/989 [==============================] - 2s 2ms/step - loss: 0.2494 - accuracy: 0.8946\n",
            "Epoch 97/100\n",
            "989/989 [==============================] - 2s 2ms/step - loss: 0.2497 - accuracy: 0.8953\n",
            "Epoch 98/100\n",
            "989/989 [==============================] - 2s 2ms/step - loss: 0.2519 - accuracy: 0.8934\n",
            "Epoch 99/100\n",
            "989/989 [==============================] - 2s 2ms/step - loss: 0.2484 - accuracy: 0.8946\n",
            "Epoch 100/100\n",
            "989/989 [==============================] - 2s 2ms/step - loss: 0.2487 - accuracy: 0.8942\n"
          ]
        },
        {
          "output_type": "execute_result",
          "data": {
            "text/plain": [
              "<keras.callbacks.History at 0x7f5254681d50>"
            ]
          },
          "metadata": {},
          "execution_count": 47
        }
      ]
    },
    {
      "cell_type": "code",
      "source": [
        "predictions= model.predict(x_test)\n",
        "y_pred = np.argmax(predictions,axis=-1)\n",
        "print('test accuracy', np.sum(y_pred==y_test)/len(y_test))"
      ],
      "metadata": {
        "colab": {
          "base_uri": "https://localhost:8080/"
        },
        "id": "ArQ23VZDaC5_",
        "outputId": "29ba7b2c-94ce-4b98-8c66-1123bc7dc523"
      },
      "execution_count": null,
      "outputs": [
        {
          "output_type": "stream",
          "name": "stdout",
          "text": [
            "424/424 [==============================] - 1s 1ms/step\n",
            "test accuracy 0.8930993807136538\n"
          ]
        }
      ]
    },
    {
      "cell_type": "markdown",
      "source": [
        "# **K Nearset Neighbor**"
      ],
      "metadata": {
        "id": "InqKxj6NTnG8"
      }
    },
    {
      "cell_type": "code",
      "source": [
        "# KNN Model\n",
        "import numpy as np\n",
        "import pandas as pd\n",
        "import sklearn\n",
        "from sklearn.neighbors import KNeighborsClassifier\n",
        "from sklearn.model_selection import train_test_split # Import train_test_split function\n",
        "from sklearn import metrics #Import scikit-learn metrics module for accuracy calculation\n",
        "\n",
        "data = pd.read_csv(\"/content/drive/MyDrive/Colab Notebooks/bank-full.csv\", delimiter=\";\")\n",
        "features = [\"age\" ,\"job\" ,\"marital\" ,\"education\" ,\"default\" ,\"balance\" ,\"housing\" ,\"loan\" ,\"contact\" ,\"day\" ,\"month\" ,\"duration\" ,\"campaign\" ,\"pdays\" ,\"previous\" ,\"poutcome\"]\n",
        "x = data[features] # Features\n",
        "\n",
        "# Convert categorical variables to one-hot encoding\n",
        "x = pd.get_dummies(x)\n",
        "# Convert target variable to numerical form\n",
        "y = pd.get_dummies(data['y'])\n",
        "\n",
        "y = data['y'] # Target variable\n",
        "x_train, x_test, y_train, y_test = train_test_split(x, y, test_size=0.3, random_state=1) # 70% training and 30% test\n",
        "\n",
        "clf = KNeighborsClassifier(n_neighbors=2)\n",
        "\n",
        "clf = clf.fit(x_train, y_train)\n",
        "\n",
        "y_pred = clf.predict(x_test)\n",
        "\n",
        "print(\"Accuracy:\",metrics.accuracy_score(y_test, y_pred))\n",
        "print(\"Precision:\", metrics.precision_score(y_test, y_pred, average='macro'))\n",
        "print(\"Recall:\", metrics.recall_score(y_test, y_pred, average='macro'))\n",
        "print(\"F1_score:\", metrics.f1_score(y_test, y_pred, average='macro'))\n"
      ],
      "metadata": {
        "id": "q-NAs5wPXAiL",
        "colab": {
          "base_uri": "https://localhost:8080/"
        },
        "outputId": "0b3ae74c-1ef4-4ab3-df4b-ca485c64c432"
      },
      "execution_count": null,
      "outputs": [
        {
          "output_type": "stream",
          "name": "stdout",
          "text": [
            "Accuracy: 0.88329401356532\n",
            "Precision: 0.6838757395554161\n",
            "Recall: 0.5652061169709603\n",
            "F1_score: 0.5836459942339352\n"
          ]
        }
      ]
    },
    {
      "cell_type": "code",
      "source": [
        "from sklearn.cluster import KMeans\n",
        "features = [\"age\" ,\"job\" ,\"marital\" ,\"education\" ,\"default\" ,\"balance\" ,\"housing\" ,\"loan\" ,\"contact\" ,\"day\" ,\"month\" ,\"duration\" ,\"campaign\" ,\"pdays\" ,\"previous\" ,\"poutcome\"]\n",
        "x = data[features] #feature variable"
      ],
      "metadata": {
        "id": "8tbX5ODFXAXD"
      },
      "execution_count": null,
      "outputs": []
    },
    {
      "cell_type": "markdown",
      "source": [
        "# **K Means Model**"
      ],
      "metadata": {
        "id": "XML-7cOTT5fA"
      }
    },
    {
      "cell_type": "code",
      "source": [
        "kmeans_model = KMeans(n_clusters=2, random_state=0, n_init=\"auto\")"
      ],
      "metadata": {
        "id": "GMmRPjVAZFwx"
      },
      "execution_count": null,
      "outputs": []
    },
    {
      "cell_type": "code",
      "source": [
        "kmeans_model = kmeans_model.fit(x)\n",
        "kmeans_model.labels_"
      ],
      "metadata": {
        "colab": {
          "base_uri": "https://localhost:8080/",
          "height": 328
        },
        "id": "4ZbbaypeZSQf",
        "outputId": "b575c730-7e67-441c-f684-c82ddef6704a"
      },
      "execution_count": null,
      "outputs": [
        {
          "output_type": "error",
          "ename": "ValueError",
          "evalue": "ignored",
          "traceback": [
            "\u001b[0;31m---------------------------------------------------------------------------\u001b[0m",
            "\u001b[0;31mValueError\u001b[0m                                Traceback (most recent call last)",
            "\u001b[0;32m<ipython-input-53-8b508d5521ba>\u001b[0m in \u001b[0;36m<cell line: 1>\u001b[0;34m()\u001b[0m\n\u001b[0;32m----> 1\u001b[0;31m \u001b[0mkmeans_model\u001b[0m \u001b[0;34m=\u001b[0m \u001b[0mkmeans_model\u001b[0m\u001b[0;34m.\u001b[0m\u001b[0mfit\u001b[0m\u001b[0;34m(\u001b[0m\u001b[0mx\u001b[0m\u001b[0;34m)\u001b[0m\u001b[0;34m\u001b[0m\u001b[0;34m\u001b[0m\u001b[0m\n\u001b[0m\u001b[1;32m      2\u001b[0m \u001b[0mkmeans_model\u001b[0m\u001b[0;34m.\u001b[0m\u001b[0mlabels_\u001b[0m\u001b[0;34m\u001b[0m\u001b[0;34m\u001b[0m\u001b[0m\n",
            "\u001b[0;32m/usr/local/lib/python3.10/dist-packages/sklearn/cluster/_kmeans.py\u001b[0m in \u001b[0;36mfit\u001b[0;34m(self, X, y, sample_weight)\u001b[0m\n\u001b[1;32m   1415\u001b[0m         \u001b[0mself\u001b[0m\u001b[0;34m.\u001b[0m\u001b[0m_validate_params\u001b[0m\u001b[0;34m(\u001b[0m\u001b[0;34m)\u001b[0m\u001b[0;34m\u001b[0m\u001b[0;34m\u001b[0m\u001b[0m\n\u001b[1;32m   1416\u001b[0m \u001b[0;34m\u001b[0m\u001b[0m\n\u001b[0;32m-> 1417\u001b[0;31m         X = self._validate_data(\n\u001b[0m\u001b[1;32m   1418\u001b[0m             \u001b[0mX\u001b[0m\u001b[0;34m,\u001b[0m\u001b[0;34m\u001b[0m\u001b[0;34m\u001b[0m\u001b[0m\n\u001b[1;32m   1419\u001b[0m             \u001b[0maccept_sparse\u001b[0m\u001b[0;34m=\u001b[0m\u001b[0;34m\"csr\"\u001b[0m\u001b[0;34m,\u001b[0m\u001b[0;34m\u001b[0m\u001b[0;34m\u001b[0m\u001b[0m\n",
            "\u001b[0;32m/usr/local/lib/python3.10/dist-packages/sklearn/base.py\u001b[0m in \u001b[0;36m_validate_data\u001b[0;34m(self, X, y, reset, validate_separately, **check_params)\u001b[0m\n\u001b[1;32m    563\u001b[0m             \u001b[0;32mraise\u001b[0m \u001b[0mValueError\u001b[0m\u001b[0;34m(\u001b[0m\u001b[0;34m\"Validation should be done on X, y or both.\"\u001b[0m\u001b[0;34m)\u001b[0m\u001b[0;34m\u001b[0m\u001b[0;34m\u001b[0m\u001b[0m\n\u001b[1;32m    564\u001b[0m         \u001b[0;32melif\u001b[0m \u001b[0;32mnot\u001b[0m \u001b[0mno_val_X\u001b[0m \u001b[0;32mand\u001b[0m \u001b[0mno_val_y\u001b[0m\u001b[0;34m:\u001b[0m\u001b[0;34m\u001b[0m\u001b[0;34m\u001b[0m\u001b[0m\n\u001b[0;32m--> 565\u001b[0;31m             \u001b[0mX\u001b[0m \u001b[0;34m=\u001b[0m \u001b[0mcheck_array\u001b[0m\u001b[0;34m(\u001b[0m\u001b[0mX\u001b[0m\u001b[0;34m,\u001b[0m \u001b[0minput_name\u001b[0m\u001b[0;34m=\u001b[0m\u001b[0;34m\"X\"\u001b[0m\u001b[0;34m,\u001b[0m \u001b[0;34m**\u001b[0m\u001b[0mcheck_params\u001b[0m\u001b[0;34m)\u001b[0m\u001b[0;34m\u001b[0m\u001b[0;34m\u001b[0m\u001b[0m\n\u001b[0m\u001b[1;32m    566\u001b[0m             \u001b[0mout\u001b[0m \u001b[0;34m=\u001b[0m \u001b[0mX\u001b[0m\u001b[0;34m\u001b[0m\u001b[0;34m\u001b[0m\u001b[0m\n\u001b[1;32m    567\u001b[0m         \u001b[0;32melif\u001b[0m \u001b[0mno_val_X\u001b[0m \u001b[0;32mand\u001b[0m \u001b[0;32mnot\u001b[0m \u001b[0mno_val_y\u001b[0m\u001b[0;34m:\u001b[0m\u001b[0;34m\u001b[0m\u001b[0;34m\u001b[0m\u001b[0m\n",
            "\u001b[0;32m/usr/local/lib/python3.10/dist-packages/sklearn/utils/validation.py\u001b[0m in \u001b[0;36mcheck_array\u001b[0;34m(array, accept_sparse, accept_large_sparse, dtype, order, copy, force_all_finite, ensure_2d, allow_nd, ensure_min_samples, ensure_min_features, estimator, input_name)\u001b[0m\n\u001b[1;32m    877\u001b[0m                     \u001b[0marray\u001b[0m \u001b[0;34m=\u001b[0m \u001b[0mxp\u001b[0m\u001b[0;34m.\u001b[0m\u001b[0mastype\u001b[0m\u001b[0;34m(\u001b[0m\u001b[0marray\u001b[0m\u001b[0;34m,\u001b[0m \u001b[0mdtype\u001b[0m\u001b[0;34m,\u001b[0m \u001b[0mcopy\u001b[0m\u001b[0;34m=\u001b[0m\u001b[0;32mFalse\u001b[0m\u001b[0;34m)\u001b[0m\u001b[0;34m\u001b[0m\u001b[0;34m\u001b[0m\u001b[0m\n\u001b[1;32m    878\u001b[0m                 \u001b[0;32melse\u001b[0m\u001b[0;34m:\u001b[0m\u001b[0;34m\u001b[0m\u001b[0;34m\u001b[0m\u001b[0m\n\u001b[0;32m--> 879\u001b[0;31m                     \u001b[0marray\u001b[0m \u001b[0;34m=\u001b[0m \u001b[0m_asarray_with_order\u001b[0m\u001b[0;34m(\u001b[0m\u001b[0marray\u001b[0m\u001b[0;34m,\u001b[0m \u001b[0morder\u001b[0m\u001b[0;34m=\u001b[0m\u001b[0morder\u001b[0m\u001b[0;34m,\u001b[0m \u001b[0mdtype\u001b[0m\u001b[0;34m=\u001b[0m\u001b[0mdtype\u001b[0m\u001b[0;34m,\u001b[0m \u001b[0mxp\u001b[0m\u001b[0;34m=\u001b[0m\u001b[0mxp\u001b[0m\u001b[0;34m)\u001b[0m\u001b[0;34m\u001b[0m\u001b[0;34m\u001b[0m\u001b[0m\n\u001b[0m\u001b[1;32m    880\u001b[0m             \u001b[0;32mexcept\u001b[0m \u001b[0mComplexWarning\u001b[0m \u001b[0;32mas\u001b[0m \u001b[0mcomplex_warning\u001b[0m\u001b[0;34m:\u001b[0m\u001b[0;34m\u001b[0m\u001b[0;34m\u001b[0m\u001b[0m\n\u001b[1;32m    881\u001b[0m                 raise ValueError(\n",
            "\u001b[0;32m/usr/local/lib/python3.10/dist-packages/sklearn/utils/_array_api.py\u001b[0m in \u001b[0;36m_asarray_with_order\u001b[0;34m(array, dtype, order, copy, xp)\u001b[0m\n\u001b[1;32m    183\u001b[0m     \u001b[0;32mif\u001b[0m \u001b[0mxp\u001b[0m\u001b[0;34m.\u001b[0m\u001b[0m__name__\u001b[0m \u001b[0;32min\u001b[0m \u001b[0;34m{\u001b[0m\u001b[0;34m\"numpy\"\u001b[0m\u001b[0;34m,\u001b[0m \u001b[0;34m\"numpy.array_api\"\u001b[0m\u001b[0;34m}\u001b[0m\u001b[0;34m:\u001b[0m\u001b[0;34m\u001b[0m\u001b[0;34m\u001b[0m\u001b[0m\n\u001b[1;32m    184\u001b[0m         \u001b[0;31m# Use NumPy API to support order\u001b[0m\u001b[0;34m\u001b[0m\u001b[0;34m\u001b[0m\u001b[0m\n\u001b[0;32m--> 185\u001b[0;31m         \u001b[0marray\u001b[0m \u001b[0;34m=\u001b[0m \u001b[0mnumpy\u001b[0m\u001b[0;34m.\u001b[0m\u001b[0masarray\u001b[0m\u001b[0;34m(\u001b[0m\u001b[0marray\u001b[0m\u001b[0;34m,\u001b[0m \u001b[0morder\u001b[0m\u001b[0;34m=\u001b[0m\u001b[0morder\u001b[0m\u001b[0;34m,\u001b[0m \u001b[0mdtype\u001b[0m\u001b[0;34m=\u001b[0m\u001b[0mdtype\u001b[0m\u001b[0;34m)\u001b[0m\u001b[0;34m\u001b[0m\u001b[0;34m\u001b[0m\u001b[0m\n\u001b[0m\u001b[1;32m    186\u001b[0m         \u001b[0;32mreturn\u001b[0m \u001b[0mxp\u001b[0m\u001b[0;34m.\u001b[0m\u001b[0masarray\u001b[0m\u001b[0;34m(\u001b[0m\u001b[0marray\u001b[0m\u001b[0;34m,\u001b[0m \u001b[0mcopy\u001b[0m\u001b[0;34m=\u001b[0m\u001b[0mcopy\u001b[0m\u001b[0;34m)\u001b[0m\u001b[0;34m\u001b[0m\u001b[0;34m\u001b[0m\u001b[0m\n\u001b[1;32m    187\u001b[0m     \u001b[0;32melse\u001b[0m\u001b[0;34m:\u001b[0m\u001b[0;34m\u001b[0m\u001b[0;34m\u001b[0m\u001b[0m\n",
            "\u001b[0;32m/usr/local/lib/python3.10/dist-packages/pandas/core/generic.py\u001b[0m in \u001b[0;36m__array__\u001b[0;34m(self, dtype)\u001b[0m\n\u001b[1;32m   2068\u001b[0m \u001b[0;34m\u001b[0m\u001b[0m\n\u001b[1;32m   2069\u001b[0m     \u001b[0;32mdef\u001b[0m \u001b[0m__array__\u001b[0m\u001b[0;34m(\u001b[0m\u001b[0mself\u001b[0m\u001b[0;34m,\u001b[0m \u001b[0mdtype\u001b[0m\u001b[0;34m:\u001b[0m \u001b[0mnpt\u001b[0m\u001b[0;34m.\u001b[0m\u001b[0mDTypeLike\u001b[0m \u001b[0;34m|\u001b[0m \u001b[0;32mNone\u001b[0m \u001b[0;34m=\u001b[0m \u001b[0;32mNone\u001b[0m\u001b[0;34m)\u001b[0m \u001b[0;34m->\u001b[0m \u001b[0mnp\u001b[0m\u001b[0;34m.\u001b[0m\u001b[0mndarray\u001b[0m\u001b[0;34m:\u001b[0m\u001b[0;34m\u001b[0m\u001b[0;34m\u001b[0m\u001b[0m\n\u001b[0;32m-> 2070\u001b[0;31m         \u001b[0;32mreturn\u001b[0m \u001b[0mnp\u001b[0m\u001b[0;34m.\u001b[0m\u001b[0masarray\u001b[0m\u001b[0;34m(\u001b[0m\u001b[0mself\u001b[0m\u001b[0;34m.\u001b[0m\u001b[0m_values\u001b[0m\u001b[0;34m,\u001b[0m \u001b[0mdtype\u001b[0m\u001b[0;34m=\u001b[0m\u001b[0mdtype\u001b[0m\u001b[0;34m)\u001b[0m\u001b[0;34m\u001b[0m\u001b[0;34m\u001b[0m\u001b[0m\n\u001b[0m\u001b[1;32m   2071\u001b[0m \u001b[0;34m\u001b[0m\u001b[0m\n\u001b[1;32m   2072\u001b[0m     def __array_wrap__(\n",
            "\u001b[0;31mValueError\u001b[0m: could not convert string to float: 'management'"
          ]
        }
      ]
    },
    {
      "cell_type": "code",
      "source": [
        "kmeans_model.cluster_centers_"
      ],
      "metadata": {
        "colab": {
          "base_uri": "https://localhost:8080/",
          "height": 165
        },
        "id": "HcnZ_gXJZR90",
        "outputId": "579dccc1-030a-438b-c1a2-ac918cef512f"
      },
      "execution_count": null,
      "outputs": [
        {
          "output_type": "error",
          "ename": "AttributeError",
          "evalue": "ignored",
          "traceback": [
            "\u001b[0;31m---------------------------------------------------------------------------\u001b[0m",
            "\u001b[0;31mAttributeError\u001b[0m                            Traceback (most recent call last)",
            "\u001b[0;32m<ipython-input-54-2295f0a04622>\u001b[0m in \u001b[0;36m<cell line: 1>\u001b[0;34m()\u001b[0m\n\u001b[0;32m----> 1\u001b[0;31m \u001b[0mkmeans_model\u001b[0m\u001b[0;34m.\u001b[0m\u001b[0mcluster_centers_\u001b[0m\u001b[0;34m\u001b[0m\u001b[0;34m\u001b[0m\u001b[0m\n\u001b[0m",
            "\u001b[0;31mAttributeError\u001b[0m: 'KMeans' object has no attribute 'cluster_centers_'"
          ]
        }
      ]
    },
    {
      "cell_type": "code",
      "source": [
        "kmeans_model.predict(X_test.head(3))"
      ],
      "metadata": {
        "colab": {
          "base_uri": "https://localhost:8080/",
          "height": 165
        },
        "id": "2WBDg21cZR2v",
        "outputId": "bb0828fa-28f3-4b84-eb04-76f93caaa709"
      },
      "execution_count": null,
      "outputs": [
        {
          "output_type": "error",
          "ename": "NameError",
          "evalue": "ignored",
          "traceback": [
            "\u001b[0;31m---------------------------------------------------------------------------\u001b[0m",
            "\u001b[0;31mNameError\u001b[0m                                 Traceback (most recent call last)",
            "\u001b[0;32m<ipython-input-55-02b51753fe86>\u001b[0m in \u001b[0;36m<cell line: 1>\u001b[0;34m()\u001b[0m\n\u001b[0;32m----> 1\u001b[0;31m \u001b[0mkmeans_model\u001b[0m\u001b[0;34m.\u001b[0m\u001b[0mpredict\u001b[0m\u001b[0;34m(\u001b[0m\u001b[0mX_test\u001b[0m\u001b[0;34m.\u001b[0m\u001b[0mhead\u001b[0m\u001b[0;34m(\u001b[0m\u001b[0;36m3\u001b[0m\u001b[0;34m)\u001b[0m\u001b[0;34m)\u001b[0m\u001b[0;34m\u001b[0m\u001b[0;34m\u001b[0m\u001b[0m\n\u001b[0m",
            "\u001b[0;31mNameError\u001b[0m: name 'X_test' is not defined"
          ]
        }
      ]
    }
  ]
}